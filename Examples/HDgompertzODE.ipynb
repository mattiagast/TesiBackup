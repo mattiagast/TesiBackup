{
 "cells": [
  {
   "cell_type": "code",
   "execution_count": 1,
   "id": "6d915579",
   "metadata": {},
   "outputs": [
    {
     "name": "stderr",
     "output_type": "stream",
     "text": [
      "/home/mattg/miniforge3/envs/SimbSINDy_env/lib/python3.11/site-packages/pysindy/__init__.py:1: UserWarning: pkg_resources is deprecated as an API. See https://setuptools.pypa.io/en/latest/pkg_resources.html. The pkg_resources package is slated for removal as early as 2025-11-30. Refrain from using this package or pin to Setuptools<81.\n",
      "  from pkg_resources import DistributionNotFound\n"
     ]
    }
   ],
   "source": [
    "# Libraries:\n",
    "import pysindy as ps\n",
    "import numpy as np\n",
    "import matplotlib.pyplot as plt\n",
    "import dill\n",
    "import sys\n",
    "import os\n",
    "\n",
    "from sklearn.metrics import mean_squared_error\n",
    "from sklearn.metrics import root_mean_squared_error\n",
    "from sklearn.linear_model import Lasso\n",
    "\n",
    "sys.path.append(\"/home/mattg/D_CODE\") # Necessario al momento per far girare toolbox\n",
    "from D_CODE.run_simulation import run as run_SRT\n",
    "from D_CODE.run_simulation_vi import run as run_DCODE\n",
    "\n",
    "sys.path.append(os.path.abspath(os.path.join(os.getcwd(), '..'))) # include parent directory in the path\n",
    "from toolbox.auxiliary_functions import set_param_freq\n",
    "from data import equations\n",
    "from data import SINDy_data"
   ]
  },
  {
   "cell_type": "code",
   "execution_count": 2,
   "id": "98765c7a",
   "metadata": {},
   "outputs": [],
   "source": [
    "# Procedura ideale:\n",
    "\n",
    "# Step 1: Dati HD\n",
    "# - Genera i dati gompertz -> z_dot = a * z * log ( b*z )\n",
    "# - proiezione con i polimoni di Legiandre -> N=128\n",
    "\n",
    "# Step 2: AE+SINDy with Polynomial CFL: degree 3\n",
    "# Project onto the latent space\n",
    "# SR: D-CODE with 5 generations and {+,x,-,-1,log} function set\n",
    "\n",
    "# Step 3:\n",
    "# Integrate the building block in final_library\n",
    "# SINDy on final library"
   ]
  },
  {
   "cell_type": "markdown",
   "id": "07397550",
   "metadata": {},
   "source": [
    "#### Step 1: High-Dimentional data Generation"
   ]
  },
  {
   "cell_type": "markdown",
   "id": "0cc97190",
   "metadata": {},
   "source": [
    "Consider the one-dimentional Gompertz Model:\n",
    "$$ \\dot{z}(t) = - a z(t) \\log\\!\\bigl(b z(t)\\bigr), \\qquad a,b \\in \\mathbb{R}^{+} $$"
   ]
  },
  {
   "cell_type": "code",
   "execution_count": 3,
   "id": "9a9a87c1",
   "metadata": {},
   "outputs": [],
   "source": [
    "# Select ODE & settings:\n",
    "ode_name = 'GompertzODE' # help=\"name of the ode\", type=str\n",
    "ode_param = '1.5,1.5' # help=\"parameters of the ode (default: None)\", type=str, default=None\n",
    "freq = 10 # help=\"sampling frequency\", type=float, default=10\n",
    "dt = 1 / freq\n",
    "n_sample = 20 # help=\"number of trajectories\", type=int, default=100\n",
    "noise_ratio = 0.01 # help=\"noise level (default 0)\", type=float, default=0.\n",
    "dim_x = 1 # help=\"dimentionality of the problem\", type=int\n",
    "dim_k = 0 # help=\"dimentionality of the parameterizaiton discovery\", type=int\n",
    "ode_param, freq = set_param_freq(ode_param, freq)\n",
    "ode = equations.get_ode(ode_name, ode_param)\n",
    "time_vector = np.arange(0, ode.T + dt, dt)"
   ]
  },
  {
   "cell_type": "code",
   "execution_count": 5,
   "id": "d0831cd0",
   "metadata": {},
   "outputs": [
    {
     "name": "stdout",
     "output_type": "stream",
     "text": [
      "(20, 160, 1) (20, 160, 1) (0,) ['X0']\n"
     ]
    }
   ],
   "source": [
    "# generate data:\n",
    "Z_list, dZ_list, param_list, feature_names = SINDy_data.SINDy_data(ode_name=ode_name, \n",
    "                                                                   ode_param=ode_param,\n",
    "                                                                   freq=freq,\n",
    "                                                                   n_sample=n_sample,\n",
    "                                                                   noise_ratio=noise_ratio,\n",
    "                                                                   dim_x=dim_x,\n",
    "                                                                   dim_k=dim_k\n",
    "                                                                   )\n",
    "\n",
    "# ensure existance conditions:\n",
    "Z_list = SINDy_data.existence_conditions(Z_list, ode.init_low, n_variables=dim_x)\n",
    "\n",
    "print(np.shape(Z_list), np.shape(dZ_list), np.shape(param_list), feature_names)"
   ]
  },
  {
   "cell_type": "markdown",
   "id": "ab5dbf55",
   "metadata": {},
   "source": [
    "The high-dimentional dataset is obtained by concatenating multiple instances of a nonlinear combination of the true Gompertz dynamics:\n",
    "\n",
    "$$\n",
    "\\mathbf{x}(t) = \\mathbf{u_1} z(t) + \\mathbf{u_2} z(t)^3 \n",
    "$$\n",
    "\n",
    "where $\\mathbf{u_1}, \\mathbf{u_2} \\in \\mathbb{R}^{128}$ are the first two Legendre polynomials."
   ]
  },
  {
   "cell_type": "code",
   "execution_count": null,
   "id": "3e124a63",
   "metadata": {},
   "outputs": [],
   "source": [
    "# Modes Generation with Legendre Polynomials\n",
    "from numpy.polynomial.legendre import legval\n",
    "\n",
    "# Number of points and grid\n",
    "N = 128\n",
    "x = np.linspace(-1, 1, N)\n",
    "\n",
    "# Generation\n",
    "u1 = legval(x, [0, 1]).reshape(1,-1)       # coeff [P0, P1] -> reshape (1,N)\n",
    "u2 = legval(x, [0, 0, 1]).reshape(1,-1)    # coeff [P0, P1, P2] -> reshape(1,N)\n",
    "\n",
    "print(u1.shape, u2.shape)"
   ]
  },
  {
   "cell_type": "code",
   "execution_count": null,
   "id": "f6a75677",
   "metadata": {},
   "outputs": [],
   "source": [
    "# Projeciton on the modes:\n",
    "X_list = []\n",
    "for z in Z_list:\n",
    "    x = np.array(z) @ u1 + np.array(z)**3 @ u2\n",
    "    X_list.append(x)\n",
    "print(np.shape(X_list))"
   ]
  },
  {
   "cell_type": "markdown",
   "id": "4c604111",
   "metadata": {},
   "source": [
    "#### Step 2: AE+SINDy training and projection"
   ]
  }
 ],
 "metadata": {
  "kernelspec": {
   "display_name": "SimbSINDy_env",
   "language": "python",
   "name": "python3"
  },
  "language_info": {
   "codemirror_mode": {
    "name": "ipython",
    "version": 3
   },
   "file_extension": ".py",
   "mimetype": "text/x-python",
   "name": "python",
   "nbconvert_exporter": "python",
   "pygments_lexer": "ipython3",
   "version": "3.11.13"
  }
 },
 "nbformat": 4,
 "nbformat_minor": 5
}
