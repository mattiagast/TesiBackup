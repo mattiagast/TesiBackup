{
 "cells": [
  {
   "cell_type": "code",
   "execution_count": null,
   "id": "47bbe618",
   "metadata": {},
   "outputs": [],
   "source": [
    "# Libraries:\n",
    "import sys\n",
    "sys.path.append(\"/home/mattg/D_CODE\")\n",
    "\n",
    "from D_CODE.run_simulation import run as run_SRT\n",
    "from D_CODE.run_simulation_vi import run as run_DCODE"
   ]
  },
  {
   "cell_type": "markdown",
   "id": "bf590e07",
   "metadata": {},
   "source": [
    "# Van der Pol ODE"
   ]
  },
  {
   "cell_type": "markdown",
   "id": "bbee62de",
   "metadata": {},
   "source": [
    "To get started, consider a simple Van der Pol ODE system.\n",
    "$$\n",
    "\\begin{cases}\n",
    "\\dot{x}_0 = \\dfrac{1}{\\mu}\\left(x_1 - \\tfrac{1}{3}x_0^3 + x_0\\right), \\\\[8pt]\n",
    "\\dot{x}_1 = -x_0.\n",
    "\\end{cases}\n",
    "$$\n",
    "\n",
    "Consider the default parameter $\\mu = 1$.\n",
    "\n",
    "To understand the limitations and the behaviour of SR-T and D-CODE play around with the parameters of the call.\n",
    "\n"
   ]
  },
  {
   "cell_type": "markdown",
   "id": "6e4e9928",
   "metadata": {},
   "source": [
    "#### SR-T"
   ]
  },
  {
   "cell_type": "code",
   "execution_count": 3,
   "id": "89cc7f2c",
   "metadata": {},
   "outputs": [],
   "source": [
    "# setting:\n",
    "ode_name = 'VdpODE' # help=\"name of the ode\", type=str\n",
    "ode_param = None # help=\"parameters of the ode (default: None)\", type=str, default=None\n",
    "x_id = 0 # help=\"ID of the equation to be learned\", type=int, default=0\n",
    "freq = 10 # help=\"sampling frequency\", type=float, default=10\n",
    "n_sample = 25 # help=\"number of trajectories\", type=int, default=100\n",
    "noise_sigma = 0.01 # help=\"noise level (default 0)\", type=float, default=0.\n",
    "alg = 'tv' # help=\"name of the benchmark\", type=str, default='tv', choices=['tv', 'spline', 'gp']\n",
    "seed = 100 # help=\"random seed\", type=int, default=0\n",
    "n_seed = 1 # help=\"random seed\", type=int, default=10"
   ]
  },
  {
   "cell_type": "code",
   "execution_count": null,
   "id": "2a2f2a5f",
   "metadata": {},
   "outputs": [
    {
     "name": "stdout",
     "output_type": "stream",
     "text": [
      "Running with: ode_name=VdpODE, ode_param=None, x_id=0, freq=10, n_sample=25, noise_sigma=0.01, alg=tv, seed=100, n_seed=1\n",
      "Dataset shape:  (31, 25, 2)\n",
      "Functions set:  {'sub': 1, 'mul': 3, 'add': 1, 'pow': 1}\n",
      " \n",
      "    |   Population Average    |             Best Individual              |\n",
      "---- ------------------------- ------------------------------------------ ----------\n",
      " Gen   Length          Fitness   Length          Fitness      OOB Fitness  Time Left\n",
      "   0    19.10      1.93638e+23        7         0.153818         0.155856      1.98m\n",
      "   1     5.45      1.06357e+11        7         0.148904         0.168816      1.50m\n"
     ]
    },
    {
     "name": "stderr",
     "output_type": "stream",
     "text": [
      "/home/mattg/miniforge3/envs/SimbSINDy_env/lib/python3.11/site-packages/gplearn/functions.py:132: RuntimeWarning: overflow encountered in power\n",
      "  return np.where(np.logical_and(np.minimum(x1, x2) >= 0, np.maximum(x1, x2) <= 10), np.power(x1, x2), 1000)\n"
     ]
    },
    {
     "name": "stdout",
     "output_type": "stream",
     "text": [
      "   2     3.38      8.62958e+10        9        0.0960255        0.0836403      1.39m\n",
      "   3     4.20      3.65211e+13        9        0.0916734         0.122809      1.43m\n",
      "   4     6.14      2.53893e+10       11        0.0312814        0.0375927      1.30m\n",
      "   5     6.93      9.98252e+07       11        0.0312724        0.0376734      1.19m\n",
      "   6     7.70           550653       11        0.0308916        0.0411009      1.13m\n",
      "   7     9.65      5.02913e+07       11        0.0308468        0.0415043      1.02m\n",
      "   8    10.75       2.5356e+10       11        0.0308655        0.0413356     59.69s\n",
      "   9    10.86      1.49965e+07       11        0.0308896         0.041119     50.11s\n",
      "  10    10.94      4.41151e+07       11        0.0308995        0.0410298     48.30s\n",
      "  11    10.95      1.95671e+08       11        0.0305468         0.044204     45.55s\n",
      "  12    10.92      4.56553e+09       11         0.030749        0.0423838     37.40s\n",
      "  13    10.92      1.34426e+14       11        0.0306649         0.043141     33.16s\n",
      "  14    10.84      2.80782e+10       11        0.0308152        0.0417883     25.90s\n",
      "  15    10.98      1.02478e+08       11        0.0305188        0.0444561     22.20s\n",
      "\n",
      "SR-T model:  -C*X0**C + X0 + X1\n",
      "\n",
      "building blocks:\n",
      "X0\n",
      "X1\n",
      "-0.33222188564390076*X0**3\n",
      " \n",
      "number of building blocks:  3\n",
      " \n"
     ]
    }
   ],
   "source": [
    "# run SR-T\n",
    "print(\"Running with: ode_name={}, ode_param={}, x_id={}, freq={}, n_sample={}, noise_sigma={}, alg={}, seed={}, n_seed={}\".format(\n",
    "    ode_name, ode_param, x_id, freq, n_sample, noise_sigma, alg, seed, n_seed))\n",
    "\n",
    "if ode_param is not None:\n",
    "    param = [float(x) for x in ode_param.split(',')]\n",
    "else:\n",
    "    param = None\n",
    "if freq >= 1:\n",
    "    freq = int(freq)\n",
    "else:\n",
    "    freq = freq\n",
    "\n",
    "run_SRT(ode_name, param, x_id, freq, n_sample, noise_sigma, alg, seed=seed, n_seed=n_seed, T0=0., T=3)\n",
    "None"
   ]
  },
  {
   "cell_type": "code",
   "execution_count": null,
   "id": "0a0df8c2",
   "metadata": {},
   "outputs": [],
   "source": [
    "# setting:\n",
    "x_id = 1 # help=\"ID of the equation to be learned\", type=int, default=0\n"
   ]
  },
  {
   "cell_type": "code",
   "execution_count": null,
   "id": "94455bf0",
   "metadata": {},
   "outputs": [
    {
     "name": "stdout",
     "output_type": "stream",
     "text": [
      "Running with: ode_name=VdpODE, ode_param=None, x_id=1, freq=10, n_sample=25, noise_sigma=0.01, alg=tv, seed=100, n_seed=1\n",
      "Dataset shape:  (31, 25, 2)\n",
      "loading config for X1\n",
      "Functions set:  {'sub': 1, 'mul': 3, 'add': 1, 'pow': 1}\n",
      " \n",
      "    |   Population Average    |             Best Individual              |\n",
      "---- ------------------------- ------------------------------------------ ----------\n",
      " Gen   Length          Fitness   Length          Fitness      OOB Fitness  Time Left\n",
      "   0    19.10      1.93638e+23        5        0.0309475        0.0312239      1.54m\n",
      "   1     6.26      9.95547e+10        5        0.0300239        0.0395363      1.43m\n",
      "   2     4.52      8.62483e+10        5        0.0298789        0.0408412      1.41m\n",
      "   3     6.58      3.65211e+13        5        0.0295827        0.0435068      1.37m\n"
     ]
    },
    {
     "name": "stderr",
     "output_type": "stream",
     "text": [
      "/home/mattg/miniforge3/envs/SimbSINDy_env/lib/python3.11/site-packages/gplearn/functions.py:132: RuntimeWarning: overflow encountered in power\n",
      "  return np.where(np.logical_and(np.minimum(x1, x2) >= 0, np.maximum(x1, x2) <= 10), np.power(x1, x2), 1000)\n"
     ]
    },
    {
     "name": "stdout",
     "output_type": "stream",
     "text": [
      "   4     5.25      2.53894e+10        5        0.0295287        0.0439929      1.26m\n",
      "   5     5.17      9.98283e+07        5        0.0296418        0.0429754      1.15m\n",
      "   6     5.15           577847        5        0.0295134        0.0441313      1.11m\n",
      "   7     5.21      7.68845e+07        5        0.0295783         0.043547     58.89s\n",
      "   8     5.18      2.59814e+10        5         0.029226        0.0467174      1.04m\n",
      "   9     5.14      2.04379e+07        5        0.0295549        0.0437578     50.11s\n",
      "  10     4.90      4.41151e+07        5        0.0296921         0.042523     51.22s\n",
      "  11     3.77      2.06765e+08        5        0.0295509        0.0437936     37.71s\n",
      "  12     3.36      4.56521e+09        5        0.0306244        0.0341316     34.27s\n",
      "\n",
      "SR-T model:  -X0\n",
      "\n",
      "building blocks:\n",
      "-1\n",
      "X0\n",
      " \n",
      "number of building blocks:  2\n",
      " \n"
     ]
    }
   ],
   "source": [
    "# run SR-T\n",
    "print(\"Running with: ode_name={}, ode_param={}, x_id={}, freq={}, n_sample={}, noise_sigma={}, alg={}, seed={}, n_seed={}\".format(\n",
    "    ode_name, ode_param, x_id, freq, n_sample, noise_sigma, alg, seed, n_seed))\n",
    "\n",
    "if ode_param is not None:\n",
    "    param = [float(x) for x in ode_param.split(',')]\n",
    "else:\n",
    "    param = None\n",
    "if freq >= 1:\n",
    "    freq = int(freq)\n",
    "else:\n",
    "    freq = freq\n",
    "\n",
    "run_SRT(ode_name, param, x_id, freq, n_sample, noise_sigma, alg, seed=seed, n_seed=n_seed, T0=0., T=3)\n",
    "None"
   ]
  },
  {
   "cell_type": "markdown",
   "id": "e8995d1f",
   "metadata": {},
   "source": [
    "#### D-CODE"
   ]
  },
  {
   "cell_type": "code",
   "execution_count": 7,
   "id": "8c02cf3f",
   "metadata": {},
   "outputs": [],
   "source": [
    "# setting:\n",
    "ode_name = 'VdpODE' # help=\"name of the ode\", type=str\n",
    "ode_param = None # help=\"parameters of the ode (default: None)\", type=str, default=None\n",
    "x_id = 0 # help=\"ID of the equation to be learned\", type=int, default=0\n",
    "freq = 20 # help=\"sampling frequency\", type=float, default=10\n",
    "n_sample = 25 # help=\"number of trajectories\", type=int, default=100\n",
    "noise_sigma = 0. # help=\"noise level (default 0)\", type=float, default=0.\n",
    "seed = 100 # help=\"random seed\", type=int, default=0\n",
    "n_seed = 1 # help=\"random seed\", type=int, default=10"
   ]
  },
  {
   "cell_type": "code",
   "execution_count": null,
   "id": "0d0c4840",
   "metadata": {},
   "outputs": [
    {
     "name": "stdout",
     "output_type": "stream",
     "text": [
      "Running with: ode_name=VdpODE, ode_param=None, x_id=0, freq=20, n_sample=25, noise_sigma=0.0, seed=100, n_seed=1\n",
      "Dataset shape:  (61, 25, 2)\n",
      "Functions set:  {'sub': 1, 'mul': 3, 'add': 1, 'pow': 1}\n",
      " \n",
      "    |   Population Average    |             Best Individual              |\n",
      "---- ------------------------- ------------------------------------------ ----------\n",
      " Gen   Length          Fitness   Length          Fitness      OOB Fitness  Time Left\n",
      "   0    19.10       2.7841e+53        7            0.579         0.358685      1.67m\n",
      "   1    10.58      3.45251e+35        7         0.445648          0.62957      1.59m\n",
      "   2     3.77      1.91582e+28        7         0.423775          1.01239      1.41m\n",
      " \n",
      "promising programs:\n",
      "sub(add(X1, X0), mul(mul(0.392, X0), X0))\n",
      "sub(add(X0, X1), mul(0.392, X0))\n",
      "sub(add(X0, X1), mul(0.392, X0))\n",
      "sub(add(X0, X1), mul(0.392, X0))\n",
      "sub(add(X1, X0), mul(mul(0.392, X0), X0))\n",
      "sub(add(X0, X1), mul(0.392, X0))\n",
      "sub(add(X0, X1), mul(0.369, X0))\n",
      "sub(add(X0, X1), mul(0.369, X0))\n",
      "sub(add(X0, X1), mul(0.369, X0))\n",
      "sub(add(X0, X1), mul(0.369, X0))\n",
      "sub(add(X0, X1), mul(0.392, X0))\n",
      "sub(add(X0, X1), mul(0.369, X0))\n",
      "add(X1, mul(0.529, X0))\n",
      "sub(add(X0, X1), mul(0.392, X0))\n",
      "mul(0.551, add(add(add(0.147, X1), X0), X1))\n",
      " \n",
      "   3     4.45      2.16447e+34        9         0.305466          1.61514      1.33m\n",
      "   4     6.45      2.99086e+27       11         0.112352         0.137067      1.29m\n",
      " \n",
      "promising programs:\n",
      "sub(add(X1, X0), mul(mul(mul(0.332, X0), X0), X0))\n",
      "sub(add(X1, X0), mul(mul(mul(0.332, X0), X0), X0))\n",
      "sub(add(X0, X1), mul(mul(mul(0.332, X0), X0), X0))\n",
      "sub(add(X1, X0), mul(mul(mul(0.332, X0), X0), X0))\n",
      "sub(add(X0, X1), mul(mul(mul(0.332, X0), X0), X0))\n",
      "sub(add(X0, X1), mul(mul(mul(0.332, X0), X0), X0))\n",
      "sub(add(X1, X0), mul(mul(mul(0.369, X0), X0), X0))\n",
      "sub(add(X1, X0), mul(mul(mul(0.369, X0), X0), X0))\n",
      "sub(add(X1, X0), mul(mul(mul(0.369, X0), X0), X0))\n",
      "sub(add(X1, X0), mul(mul(mul(0.392, X0), X0), X0))\n",
      "sub(add(X1, X0), mul(mul(mul(0.392, X0), X0), X0))\n",
      "sub(add(X0, X1), mul(mul(mul(0.392, X0), X0), X0))\n",
      "sub(add(X1, X0), mul(mul(0.369, X0), X0))\n",
      "sub(add(X0, X1), mul(mul(0.392, X0), X0))\n",
      "sub(add(X1, X0), mul(mul(0.392, X0), X0))\n",
      " \n",
      "   5     7.20      1.30524e+22       11         0.110251         0.152481      1.17m\n",
      "   6     7.22      3.01878e+17       11         0.107262         0.174398      1.10m\n",
      "   7     7.50      3.89179e+21       11         0.107096         0.175613      1.05m\n",
      "   8     8.83      4.15365e+27       11         0.105332          0.18855     53.15s\n",
      "   9    10.61      2.19998e+21       11         0.104519          0.19451     49.77s\n",
      " \n",
      "promising programs:\n",
      "sub(add(X0, X1), mul(mul(mul(0.332, X0), X0), X0))\n",
      "sub(add(X1, X0), mul(mul(mul(0.332, X0), X0), X0))\n",
      "sub(add(X0, X1), mul(mul(mul(0.332, X0), X0), X0))\n",
      "sub(add(X0, X1), mul(mul(mul(0.332, X0), X0), X0))\n",
      "sub(add(X1, X0), mul(mul(mul(0.332, X0), X0), X0))\n",
      "sub(add(X1, X0), mul(mul(mul(0.332, X0), X0), X0))\n",
      "sub(add(X1, X0), mul(mul(mul(0.332, X0), X0), X0))\n",
      "sub(add(X0, X1), mul(mul(mul(0.332, X0), X0), X0))\n",
      "sub(add(X0, X1), mul(mul(mul(0.332, X0), X0), X0))\n",
      "sub(add(X1, X0), mul(mul(mul(0.332, X0), X0), X0))\n",
      "sub(add(X0, X1), mul(mul(mul(0.332, X0), X0), X0))\n",
      "sub(add(X0, X1), mul(mul(mul(0.332, X0), X0), X0))\n",
      "sub(add(X0, X1), mul(mul(mul(0.332, X0), X0), X0))\n",
      "sub(add(X0, X1), mul(mul(mul(0.332, X0), X0), X0))\n",
      "sub(add(X1, X0), mul(mul(mul(0.332, X0), X0), X0))\n",
      " \n",
      "  10    10.93      2.01395e+21       11         0.104519          0.19451     47.97s\n",
      "  11    10.95      2.76196e+22       11         0.104519          0.19451     38.43s\n",
      "  12    10.92      6.65859e+24       11         0.104519          0.19451     37.71s\n",
      "  13    10.93       1.0296e+34       11         0.104519          0.19451      1.42m\n",
      "\n",
      "D-CODE model:  -C*X0**C + X0 + X1\n",
      "\n",
      "building blocks:\n",
      "X0\n",
      "X1\n",
      "-0.33222188564390076*X0**3\n",
      " \n",
      "number of building blocks:  3\n",
      " \n"
     ]
    }
   ],
   "source": [
    "# run D-CODE\n",
    "print(\"Running with: ode_name={}, ode_param={}, x_id={}, freq={}, n_sample={}, noise_sigma={}, seed={}, n_seed={}\".format(\n",
    "    ode_name, ode_param, x_id, freq, n_sample, noise_sigma, seed, n_seed))\n",
    "\n",
    "if ode_param is not None:\n",
    "    param = [float(x) for x in ode_param.split(',')]\n",
    "else:\n",
    "    param = None\n",
    "if freq >= 1:\n",
    "    freq = int(freq)\n",
    "else:\n",
    "    freq = freq\n",
    "\n",
    "run_DCODE(ode_name, param, x_id, freq, n_sample, noise_sigma, seed=seed, n_seed=n_seed, T0=0, T=3)\n",
    "None"
   ]
  },
  {
   "cell_type": "code",
   "execution_count": null,
   "id": "3059c4c7",
   "metadata": {},
   "outputs": [],
   "source": [
    "# setting:\n",
    "x_id = 1 # help=\"ID of the equation to be learned\", type=int, default=0"
   ]
  },
  {
   "cell_type": "code",
   "execution_count": null,
   "id": "0e370d70",
   "metadata": {},
   "outputs": [
    {
     "name": "stdout",
     "output_type": "stream",
     "text": [
      "Running with: ode_name=VdpODE, ode_param=None, x_id=1, freq=20, n_sample=25, noise_sigma=0.0, seed=100, n_seed=1\n",
      "Dataset shape:  (61, 25, 2)\n",
      "loading config for X1\n",
      "Functions set:  {'sub': 1, 'mul': 3, 'add': 1, 'pow': 1}\n",
      " \n",
      "    |   Population Average    |             Best Individual              |\n",
      "---- ------------------------- ------------------------------------------ ----------\n",
      " Gen   Length          Fitness   Length          Fitness      OOB Fitness  Time Left\n",
      "   0    19.10       2.7841e+53        5        0.0258464        0.0398789      3.10m\n",
      "   1     8.46       3.4525e+35        5        0.0244177        0.0503559      2.40m\n",
      "   2     4.43      1.91582e+28        5        0.0224132        0.0650558      1.57m\n",
      " \n",
      "promising programs:\n",
      "sub(sub(X1, X0), X1)\n",
      "sub(sub(X0, X0), X0)\n",
      "sub(sub(X0, X0), X0)\n",
      "sub(sub(X1, X1), X0)\n",
      "sub(X1, add(X1, X0))\n",
      "sub(sub(X0, X0), X0)\n",
      "sub(sub(X1, X0), X1)\n",
      "sub(X1, add(X1, X0))\n",
      "sub(sub(X0, X0), X0)\n",
      "sub(X1, add(X1, X0))\n",
      "sub(X1, add(X1, X0))\n",
      "sub(X1, add(X1, X0))\n",
      "sub(X1, add(X1, X0))\n",
      "sub(X1, add(X1, X0))\n",
      "sub(sub(X0, X0), X0)\n",
      " \n",
      "   3     6.39      2.16447e+34       31        0.0218427        0.0692394      1.54m\n",
      "   4     5.31      2.99086e+27        5        0.0214654        0.0720065      1.44m\n",
      " \n",
      "promising programs:\n",
      "sub(sub(X1, X0), X1)\n",
      "sub(X1, add(X1, X0))\n",
      "sub(X1, add(X1, X0))\n",
      "sub(X1, add(X1, X0))\n",
      "sub(sub(X1, X0), X1)\n",
      "sub(X1, add(X1, X0))\n",
      "sub(X1, add(X1, X0))\n",
      "sub(sub(X0, X0), X0)\n",
      "sub(X1, add(X1, X0))\n",
      "sub(X1, add(X1, X0))\n",
      "sub(sub(X0, X0), X0)\n",
      "sub(X1, add(X1, X0))\n",
      "sub(X1, add(X1, X0))\n",
      "sub(X1, add(X1, X0))\n",
      "sub(X1, add(X1, X0))\n",
      " \n",
      "   5     5.17      1.30524e+22        5        0.0213395        0.0729292      1.29m\n",
      "   6     5.15      3.01878e+17        5        0.0213395        0.0729292      1.12m\n",
      "   7     5.21      3.89179e+21        5        0.0213395        0.0729292      1.02m\n",
      "   8     5.19      4.15366e+27        5        0.0217762        0.0697269      1.03m\n",
      "   9     5.13      7.58306e+20        5        0.0213395        0.0729292     58.55s\n",
      "\n",
      "D-CODE model:  -X0\n",
      "\n",
      "building blocks:\n",
      "-1\n",
      "X0\n",
      " \n",
      "number of building blocks:  2\n",
      " \n"
     ]
    }
   ],
   "source": [
    "# run D-CODE\n",
    "print(\"Running with: ode_name={}, ode_param={}, x_id={}, freq={}, n_sample={}, noise_sigma={}, seed={}, n_seed={}\".format(\n",
    "    ode_name, ode_param, x_id, freq, n_sample, noise_sigma, seed, n_seed))\n",
    "\n",
    "if ode_param is not None:\n",
    "    param = [float(x) for x in ode_param.split(',')]\n",
    "else:\n",
    "    param = None\n",
    "if freq >= 1:\n",
    "    freq = int(freq)\n",
    "else:\n",
    "    freq = freq\n",
    "\n",
    "run_DCODE(ode_name, param, x_id, freq, n_sample, noise_sigma, seed=seed, n_seed=n_seed, T0=0, T=3)\n",
    "None"
   ]
  },
  {
   "cell_type": "markdown",
   "id": "efd953d2",
   "metadata": {},
   "source": [
    "\n",
    "\n",
    "Importantissimo è definire in modo intelligente il fuction set nella configurazione. In questo modo la ricerca è piu semplice e la SR becca alcuni building blocks rilevanti. In questo contesto, per non confondere l'output bisogna tenere fuori le forme trigonometriche e inserire il termine potenza.\n",
    "\n",
    "Un altro aspetto da considerare è la finestra temporale: quando prendiamo un intervallo di tempo troppo alto, (e.g. T=10) la dinamica del sistema raggiunge stabilità da diverso tempo, e il sistema scoperto dai modelli assume una forma troppo semplice. Per T=5 il sistema scoperto inizia ad avere un senso strutturale, pochi parametri, ma solo con un T piu basso la scoperta è efficace. L'unico modo per mitigare questo effetto su intervalli 'lunghi' sembrerebbe aumentare la variabilità sulle condizioni iniziali.\n",
    "\n",
    "Aggiungere il rumore i risultati sono molto buoni, anche se D-CODE sembrerebbe fare piu fatica. Esplora molte soluzioni, anche piu complesse, poi ricade su una soluzione sensata, più piccola, ma non sempre corretta.\n",
    "\n",
    "Cambiare il parametro $\\mu$ del sistema: disastro... forse in questo caso sarebbe da aumentare la frequenza o definire l'orizzonte temporale in modo opportuno per quel parametro"
   ]
  },
  {
   "cell_type": "markdown",
   "id": "c930928f",
   "metadata": {},
   "source": [
    "# Gompertz ODE"
   ]
  },
  {
   "cell_type": "markdown",
   "id": "04b214e9",
   "metadata": {},
   "source": [
    "### Gompertz - $a$ varing, $b$ fixed"
   ]
  },
  {
   "cell_type": "markdown",
   "id": "351a27fe",
   "metadata": {},
   "source": [
    "#### SR-T"
   ]
  },
  {
   "cell_type": "code",
   "execution_count": 2,
   "id": "444374bc",
   "metadata": {},
   "outputs": [],
   "source": [
    "# setting:\n",
    "ode_name = 'GompertzODE_par_a' # help=\"name of the ode\", type=str\n",
    "ode_param = '1.7' # help=\"parameters of the ode (default: None)\", type=str, default=None\n",
    "x_id = 0 # help=\"ID of the equation to be learned\", type=int, default=0\n",
    "freq = 10 # help=\"sampling frequency\", type=float, default=10\n",
    "n_sample = 25 # help=\"number of trajectories\", type=int, default=100\n",
    "noise_sigma = 0.01 # help=\"noise level (default 0)\", type=float, default=0.\n",
    "alg = 'tv' # help=\"name of the benchmark\", type=str, default='tv', choices=['tv', 'spline', 'gp']\n",
    "seed = 100 # help=\"random seed\", type=int, default=0\n",
    "n_seed = 1 # help=\"random seed\", type=int, default=10"
   ]
  },
  {
   "cell_type": "code",
   "execution_count": 3,
   "id": "f03b3232",
   "metadata": {},
   "outputs": [
    {
     "name": "stdout",
     "output_type": "stream",
     "text": [
      "Running with: ode_name=GompertzODE_par_a, ode_param=1.7, x_id=0, freq=10, n_sample=25, noise_sigma=0.01, alg=tv, seed=100, n_seed=1\n",
      "Dataset shape:  (51, 25, 2)\n",
      "Functions set:  {'neg': 1, 'mul': 3, 'log': 1, 'add': 1}\n",
      " \n",
      "    |   Population Average    |             Best Individual              |\n",
      "---- ------------------------- ------------------------------------------ ----------\n",
      " Gen   Length          Fitness   Length          Fitness      OOB Fitness  Time Left\n",
      "   0    16.14      3.89367e+10        9          0.02202        0.0213977      6.36m\n",
      "   1     6.76          397.725        9        0.0216877        0.0243882      6.56m\n",
      "   2     3.80           264.01        9        0.0216612        0.0246262      7.68m\n",
      "   3     2.63          224.762        9         0.021693        0.0243405      6.07m\n",
      "   4     3.31          104.471        9        0.0116644        0.0128396      5.88m\n",
      "   5     5.23          78.5671        9       0.00589168       0.00735232      5.18m\n",
      "   6     6.93          52.2299        9       0.00587766        0.0074785      3.52m\n",
      "   7     7.15           77.982        9       0.00579899       0.00745231      3.11m\n",
      "   8     7.17          223.835        9       0.00574813       0.00791004      4.36m\n",
      "   9     7.40          46.3034        9       0.00565552       0.00874357      4.15m\n",
      "  10     7.94          25023.7        9       0.00561901       0.00907211      3.73m\n",
      "  11     8.73           120.41        9       0.00559933       0.00924923      2.47m\n",
      "  12     9.01          111.626        9       0.00561698       0.00909039      2.15m\n",
      "  13     9.02          110.112        9        0.0054902        0.0102314      1.79m\n",
      "  14     9.02          53.1352        9       0.00562213       0.00904409      1.51m\n",
      "  15     9.05       2.5031e+06        9       0.00557653       0.00945442      1.23m\n",
      "  16     9.01          128.957        9       0.00557469       0.00947106     56.92s\n",
      "  17     9.02          1959.18        9       0.00559208       0.00931455     45.89s\n",
      "\n",
      "SR-T model:  -X0*X1*log(C*X0)\n",
      "\n",
      "building blocks:\n",
      "log(1.7032413197241896*X0)\n",
      "-1\n",
      "X0\n",
      "X1\n",
      "log(1.7021983633577862*X0)\n",
      " \n",
      "number of building blocks:  5\n",
      " \n"
     ]
    }
   ],
   "source": [
    "print(\"Running with: ode_name={}, ode_param={}, x_id={}, freq={}, n_sample={}, noise_sigma={}, alg={}, seed={}, n_seed={}\".format(\n",
    "    ode_name, ode_param, x_id, freq, n_sample, noise_sigma, alg, seed, n_seed))\n",
    "\n",
    "if ode_param is not None:\n",
    "    param = [float(x) for x in ode_param.split(',')]\n",
    "else:\n",
    "    param = None\n",
    "if freq >= 1:\n",
    "    freq = int(freq)\n",
    "else:\n",
    "    freq = freq\n",
    "\n",
    "run_SRT(ode_name, param, x_id, freq, n_sample, noise_sigma, alg, seed=seed, n_seed=n_seed, T0=0., T=5.)\n",
    "None"
   ]
  },
  {
   "cell_type": "markdown",
   "id": "691219be",
   "metadata": {},
   "source": [
    "#### D-CODE"
   ]
  },
  {
   "cell_type": "code",
   "execution_count": 4,
   "id": "12ba5992",
   "metadata": {},
   "outputs": [],
   "source": [
    "# setting:\n",
    "ode_name = 'GompertzODE_par_a' # help=\"name of the ode\", type=str\n",
    "ode_param = '1.7' # help=\"parameters of the ode (default: None)\", type=str, default=None\n",
    "x_id = 0 # help=\"ID of the equation to be learned\", type=int, default=0\n",
    "freq = 10 # help=\"sampling frequency\", type=float, default=10\n",
    "n_sample = 25 # help=\"number of trajectories\", type=int, default=100\n",
    "noise_sigma = 0.01 # help=\"noise level (default 0)\", type=float, default=0.\n",
    "seed = 100 # help=\"random seed\", type=int, default=0\n",
    "n_seed = 1 # help=\"random seed\", type=int, default=10"
   ]
  },
  {
   "cell_type": "code",
   "execution_count": 5,
   "id": "52b5ffcb",
   "metadata": {},
   "outputs": [
    {
     "name": "stdout",
     "output_type": "stream",
     "text": [
      "Running with: ode_name=GompertzODE_par_a, ode_param=1.7, x_id=0, freq=10, n_sample=25, noise_sigma=0.01, seed=100, n_seed=1\n",
      "Dataset shape:  (101, 25, 2)\n",
      "Functions set:  {'neg': 1, 'mul': 3, 'log': 1, 'add': 1}\n",
      " \n",
      "    |   Population Average    |             Best Individual              |\n",
      "---- ------------------------- ------------------------------------------ ----------\n",
      " Gen   Length          Fitness   Length          Fitness      OOB Fitness  Time Left\n",
      "   0    16.14      1.86191e+27        9        0.0248176        0.0287231      4.60m\n",
      "   1    11.86       9.9359e+09        9        0.0237746        0.0363719      4.74m\n",
      "   2     6.81      8.51635e+12       14         0.021191        0.0229603      4.84m\n",
      " \n",
      "promising programs:\n",
      "mul(neg(mul(X0, X1)), log(mul(1.753, X0)))\n",
      "mul(neg(mul(X0, X1)), log(mul(1.753, X0)))\n",
      "mul(neg(mul(X0, X1)), log(mul(1.753, X0)))\n",
      "mul(neg(mul(X0, X1)), log(mul(1.753, X0)))\n",
      "mul(neg(mul(X0, X1)), log(mul(1.753, X0)))\n",
      "mul(neg(mul(X0, X1)), log(mul(1.753, X0)))\n",
      "mul(neg(mul(X0, X1)), log(mul(1.753, X0)))\n",
      "mul(neg(mul(X0, X1)), log(mul(1.753, X0)))\n",
      "mul(neg(mul(X0, X1)), log(mul(1.753, X0)))\n",
      "mul(neg(mul(X0, X1)), log(mul(1.753, X0)))\n",
      "mul(neg(mul(X0, X1)), log(mul(1.753, X0)))\n",
      "mul(neg(mul(X0, X1)), log(mul(1.753, X0)))\n",
      "mul(neg(mul(X1, X0)), log(mul(1.753, X0)))\n",
      "mul(neg(mul(X0, X1)), log(mul(1.753, X0)))\n",
      "mul(neg(mul(X0, X1)), log(mul(1.753, X0)))\n",
      " \n",
      "   3     4.23      1.67229e+10       14         0.020876        0.0252702      4.47m\n",
      "   4     6.82       2.5597e+09        9        0.0108814        0.0126501      4.52m\n",
      " \n",
      "promising programs:\n",
      "mul(neg(mul(X0, X1)), log(mul(1.713, X0)))\n",
      "mul(neg(mul(X0, X1)), log(mul(1.713, X0)))\n",
      "mul(neg(mul(X0, X1)), log(mul(1.713, X0)))\n",
      "mul(neg(mul(X1, X0)), log(mul(1.685, X0)))\n",
      "mul(neg(mul(X1, X0)), log(mul(1.685, X0)))\n",
      "mul(neg(mul(X0, X1)), log(mul(1.714, X0)))\n",
      "mul(neg(mul(X0, X1)), log(mul(1.702, X0)))\n",
      "mul(X0, mul(neg(X1), log(mul(1.714, X0))))\n",
      "mul(neg(mul(X0, X1)), log(mul(1.713, X0)))\n",
      "mul(neg(mul(X1, X0)), log(mul(1.714, X0)))\n",
      "mul(neg(mul(X0, X1)), log(mul(1.713, X0)))\n",
      "mul(log(mul(1.720, X0)), neg(mul(X1, X0)))\n",
      "mul(log(mul(1.708, X0)), neg(mul(X0, X1)))\n",
      "mul(log(mul(1.720, X0)), neg(mul(X1, X0)))\n",
      "mul(neg(mul(X0, X1)), log(mul(1.713, X0)))\n",
      " \n",
      "   5     8.36      2.13251e+09        9       0.00927162         0.028938      4.28m\n",
      "   6     8.62      1.61759e+09        9       0.00919764        0.0205896      3.69m\n",
      "   7     9.05      1.16901e+09        9       0.00904239        0.0217281      5.27m\n",
      "   8     9.03      2.24059e+09        9          0.00829        0.0272457      3.44m\n",
      "   9     9.04      8.43612e+08        9       0.00856825        0.0252051      3.02m\n",
      " \n",
      "promising programs:\n",
      "mul(neg(mul(X0, X1)), log(mul(1.697, X0)))\n",
      "mul(neg(mul(X0, X1)), log(mul(1.697, X0)))\n",
      "mul(neg(mul(X0, X1)), log(mul(1.702, X0)))\n",
      "mul(log(mul(1.702, X0)), neg(mul(X0, X1)))\n",
      "mul(neg(mul(X1, X0)), log(mul(1.702, X0)))\n",
      "mul(neg(mul(X0, X1)), log(mul(1.702, X0)))\n",
      "mul(neg(mul(X0, X1)), log(mul(1.702, X0)))\n",
      "mul(neg(mul(X0, X1)), log(mul(1.697, X0)))\n",
      "mul(neg(mul(X1, X0)), log(mul(1.685, X0)))\n",
      "mul(neg(mul(X0, X1)), log(mul(1.702, X0)))\n",
      "mul(neg(mul(X1, X0)), log(mul(1.697, X0)))\n",
      "mul(log(mul(1.702, X0)), neg(mul(X0, X1)))\n",
      "mul(neg(mul(X0, X1)), log(mul(1.702, X0)))\n",
      "mul(log(mul(1.701, X0)), neg(mul(X0, X1)))\n",
      "mul(neg(mul(X1, X0)), log(mul(1.697, X0)))\n",
      " \n",
      "  10     9.04      1.25253e+15        9       0.00817764          0.02698      2.76m\n",
      "  11     9.03       4.3166e+09        9          0.00829        0.0272457      2.47m\n",
      "  12     9.02       1.3503e+09        9       0.00825813         0.027014      2.27m\n",
      "  13     9.02      2.76501e+09        9       0.00817764          0.02698      1.87m\n",
      "  14     9.03      1.10539e+09        9       0.00817764          0.02698      1.55m\n",
      "\n",
      "D-CODE model:  -X0*X1*log(C*X0)\n",
      "\n",
      "building blocks:\n",
      "log(1.753291641496392*X0)\n",
      "log(1.7127862476886544*X0)\n",
      "log(1.6853327494848984*X0)\n",
      "-1\n",
      "X0\n",
      "X1\n",
      "log(1.6973922223388804*X0)\n",
      " \n",
      "number of building blocks:  7\n",
      " \n"
     ]
    }
   ],
   "source": [
    "print(\"Running with: ode_name={}, ode_param={}, x_id={}, freq={}, n_sample={}, noise_sigma={}, seed={}, n_seed={}\".format(\n",
    "    ode_name, ode_param, x_id, freq, n_sample, noise_sigma, seed, n_seed))\n",
    "\n",
    "if ode_param is not None:\n",
    "    param = [float(x) for x in ode_param.split(',')]\n",
    "else:\n",
    "    param = None\n",
    "if freq >= 1:\n",
    "    freq = int(freq)\n",
    "else:\n",
    "    freq = freq\n",
    "\n",
    "run_DCODE(ode_name, param, x_id, freq, n_sample, noise_sigma, seed=seed, n_seed=n_seed, T0=0, T=5)\n",
    "None"
   ]
  },
  {
   "cell_type": "markdown",
   "id": "9259e636",
   "metadata": {},
   "source": [
    "Entrambi molto buoni anche con un pizzico di rumore.\n",
    "NOTA: Alcuni building blocks simili, tipo:\n",
    "- log(1.7032413197241896 X0)\n",
    "- log(1.7021983633577862 X0)\n",
    "\n",
    "altri invece sono tanti e vicini come:\n",
    "- log(1.753291641496392*X0)\n",
    "- log(1.7127862476886544 X0)\n",
    "- log(1.6853327494848984 X0)\n",
    "- log(1.6973922223388804 X0)"
   ]
  },
  {
   "cell_type": "markdown",
   "id": "6c352dfb",
   "metadata": {},
   "source": [
    "### Gompertz ODE - $a,b$ varying"
   ]
  },
  {
   "cell_type": "markdown",
   "id": "ab92a48d",
   "metadata": {},
   "source": [
    "#### SR-T"
   ]
  },
  {
   "cell_type": "code",
   "execution_count": 6,
   "id": "406d9b44",
   "metadata": {},
   "outputs": [],
   "source": [
    "# setting:\n",
    "ode_name = 'GompertzODE_par_ab' # help=\"name of the ode\", type=str\n",
    "ode_param = None # help=\"parameters of the ode (default: None)\", type=str, default=None\n",
    "x_id = 0 # help=\"ID of the equation to be learned\", type=int, default=0\n",
    "freq = 10 # help=\"sampling frequency\", type=float, default=10\n",
    "n_sample = 25 # help=\"number of trajectories\", type=int, default=100\n",
    "noise_sigma = 0.05 # help=\"noise level (default 0)\", type=float, default=0.\n",
    "alg = 'tv' # help=\"name of the benchmark\", type=str, default='tv', choices=['tv', 'spline', 'gp']\n",
    "seed = 100 # help=\"random seed\", type=int, default=0\n",
    "n_seed = 1 # help=\"random seed\", type=int, default=10"
   ]
  },
  {
   "cell_type": "code",
   "execution_count": 7,
   "id": "ce068ee3",
   "metadata": {},
   "outputs": [
    {
     "name": "stdout",
     "output_type": "stream",
     "text": [
      "Running with: ode_name=GompertzODE_par_ab, ode_param=None, x_id=0, freq=10, n_sample=25, noise_sigma=0.05, alg=tv, seed=100, n_seed=1\n",
      "Dataset shape:  (51, 25, 3)\n",
      "Functions set:  {'neg': 1, 'mul': 1, 'log': 1, 'add': 1, 'sub': 1, 'div': 1, 'pow': 1, 'sin': 1, 'cos': 1}\n",
      " \n",
      "    |   Population Average    |             Best Individual              |\n",
      "---- ------------------------- ------------------------------------------ ----------\n",
      " Gen   Length          Fitness   Length          Fitness      OOB Fitness  Time Left\n",
      "   0     9.12            38499       27         0.093171        0.0959875      1.39m\n"
     ]
    },
    {
     "name": "stderr",
     "output_type": "stream",
     "text": [
      "/home/mattg/miniforge3/envs/SimbSINDy_env/lib/python3.11/site-packages/gplearn/functions.py:132: RuntimeWarning: overflow encountered in power\n",
      "  return np.where(np.logical_and(np.minimum(x1, x2) >= 0, np.maximum(x1, x2) <= 10), np.power(x1, x2), 1000)\n"
     ]
    },
    {
     "name": "stdout",
     "output_type": "stream",
     "text": [
      "   1     5.35          56.3979       11        0.0659183         0.062832      1.14m\n",
      "   2     3.01          107.298       11        0.0670096         0.053011      1.03m\n",
      "   3     2.28          5.99815        2        0.0959497          0.13391     38.75s\n",
      "   4     2.29          42.4359        2        0.0962774         0.132212     19.75s\n",
      "   5     2.28          386.906        2        0.0962995         0.126388      0.00s\n",
      "\n",
      "SR-T model:  C\n",
      "\n",
      "building blocks:\n",
      " \n",
      "number of building blocks:  0\n",
      " \n"
     ]
    }
   ],
   "source": [
    "print(\"Running with: ode_name={}, ode_param={}, x_id={}, freq={}, n_sample={}, noise_sigma={}, alg={}, seed={}, n_seed={}\".format(\n",
    "    ode_name, ode_param, x_id, freq, n_sample, noise_sigma, alg, seed, n_seed))\n",
    "\n",
    "if ode_param is not None:\n",
    "    param = [float(x) for x in ode_param.split(',')]\n",
    "else:\n",
    "    param = None\n",
    "if freq >= 1:\n",
    "    freq = int(freq)\n",
    "else:\n",
    "    freq = freq\n",
    "\n",
    "run_SRT(ode_name, param, x_id, freq, n_sample, noise_sigma, alg, seed=seed, n_seed=n_seed, T0=0., T=5.)\n",
    "None"
   ]
  },
  {
   "cell_type": "markdown",
   "id": "c7dc23f7",
   "metadata": {},
   "source": [
    "#### D-CODE"
   ]
  },
  {
   "cell_type": "code",
   "execution_count": 17,
   "id": "b23d57cb",
   "metadata": {},
   "outputs": [],
   "source": [
    "# setting:\n",
    "ode_name = 'GompertzODE_par_ab' # help=\"name of the ode\", type=str\n",
    "ode_param = None # help=\"parameters of the ode (default: None)\", type=str, default=None\n",
    "x_id = 0 # help=\"ID of the equation to be learned\", type=int, default=0\n",
    "freq = 10 # help=\"sampling frequency\", type=float, default=10\n",
    "n_sample = 25 # help=\"number of trajectories\", type=int, default=100\n",
    "noise_sigma = 0.10 # help=\"noise level (default 0)\", type=float, default=0.\n",
    "seed = 100 # help=\"random seed\", type=int, default=0\n",
    "n_seed = 1 # help=\"random seed\", type=int, default=10"
   ]
  },
  {
   "cell_type": "code",
   "execution_count": 18,
   "id": "93c2f75a",
   "metadata": {},
   "outputs": [
    {
     "name": "stdout",
     "output_type": "stream",
     "text": [
      "Running with: ode_name=GompertzODE_par_ab, ode_param=None, x_id=0, freq=10, n_sample=25, noise_sigma=0.1, seed=100, n_seed=1\n",
      "Dataset shape:  (101, 25, 3)\n",
      "Functions set:  {'neg': 1, 'mul': 1, 'log': 1, 'add': 1, 'sub': 1, 'div': 1, 'pow': 1, 'sin': 1, 'cos': 1}\n",
      " \n",
      "    |   Population Average    |             Best Individual              |\n",
      "---- ------------------------- ------------------------------------------ ----------\n",
      " Gen   Length          Fitness   Length          Fitness      OOB Fitness  Time Left\n",
      "   0     9.12      8.19566e+14       27         0.414742         0.839194      1.16m\n",
      "   1     7.79      9.40877e+09       20         0.142076        0.0977254      1.24m\n",
      "   2     4.83           941406       19         0.108751         0.123233     54.71s\n",
      " \n",
      "promising programs:\n",
      "mul(log(mul(X2, X0)), neg(X0))\n",
      "mul(log(mul(X2, X0)), neg(X0))\n",
      "mul(log(mul(X2, X0)), neg(X0))\n",
      "mul(log(mul(X2, X0)), neg(X0))\n",
      "mul(log(mul(X2, X0)), neg(X0))\n",
      "sin(mul(log(mul(X2, X0)), neg(X0)))\n",
      "mul(log(mul(X2, X0)), neg(X0))\n",
      "mul(log(mul(X2, X0)), neg(X0))\n",
      "mul(div(add(1.319, X1), neg(add(X0, X0))), mul(log(mul(X2, X0)), pow(X0, 1.971)))\n",
      "mul(log(mul(X2, X0)), neg(X0))\n",
      "mul(log(mul(X2, X0)), neg(X0))\n",
      "mul(log(mul(X2, X0)), neg(X0))\n",
      "mul(log(mul(X2, X0)), neg(X0))\n",
      "mul(log(mul(X2, X0)), neg(X0))\n",
      "mul(log(mul(X2, X0)), neg(X0))\n",
      " \n",
      "   3     2.88           740226       17        0.0887414        0.0775649     36.67s\n",
      "   4     3.30      1.69602e+06       17        0.0907321        0.0629666     17.56s\n",
      " \n",
      "promising programs:\n",
      "mul(log(mul(X2, X0)), neg(mul(X0, X1)))\n",
      "mul(1.441, mul(log(mul(X2, X0)), neg(X0)))\n",
      "mul(1.441, mul(log(mul(X2, X0)), neg(X0)))\n",
      "mul(1.441, mul(log(mul(X2, X0)), neg(X0)))\n",
      "mul(1.441, mul(log(mul(X2, X0)), neg(X0)))\n",
      "mul(1.441, mul(log(mul(X2, X0)), neg(X0)))\n",
      "mul(1.441, mul(log(mul(X2, X0)), neg(X0)))\n",
      "mul(pow(X1, 1.283), mul(log(mul(X2, X0)), neg(X0)))\n",
      "mul(log(mul(X2, X0)), neg(X0))\n",
      "mul(log(mul(X2, X0)), neg(X0))\n",
      "mul(log(mul(X2, X0)), neg(X0))\n",
      "mul(log(mul(X2, X0)), neg(X0))\n",
      "mul(log(mul(X2, X0)), neg(X0))\n",
      "mul(log(mul(X2, X0)), neg(X0))\n",
      "mul(log(mul(X2, X0)), neg(X0))\n",
      " \n",
      "   5     5.40      4.13774e+11        9        0.0836332        0.0928781      0.00s\n",
      "\n",
      "D-CODE model:  -X0*X1*log(X0*X2)\n",
      "\n",
      "building blocks:\n",
      "log(X0*X2)\n",
      "X0**1.9709380822878872\n",
      "X1**1.2826715618698055\n",
      "-1\n",
      "X0\n",
      "X1\n",
      " \n",
      "number of building blocks:  6\n",
      " \n"
     ]
    }
   ],
   "source": [
    "print(\"Running with: ode_name={}, ode_param={}, x_id={}, freq={}, n_sample={}, noise_sigma={}, seed={}, n_seed={}\".format(\n",
    "    ode_name, ode_param, x_id, freq, n_sample, noise_sigma, seed, n_seed))\n",
    "\n",
    "if ode_param is not None:\n",
    "    param = [float(x) for x in ode_param.split(',')]\n",
    "else:\n",
    "    param = None\n",
    "if freq >= 1:\n",
    "    freq = int(freq)\n",
    "else:\n",
    "    freq = freq\n",
    "\n",
    "run_DCODE(ode_name, param, x_id, freq, n_sample, noise_sigma, seed=seed, n_seed=n_seed, T0=0, T=5)\n",
    "None"
   ]
  },
  {
   "cell_type": "markdown",
   "id": "a1cf7559",
   "metadata": {},
   "source": [
    "Commento:\n",
    "Senza rumore il riconoscimento delle versione parametrizzata è perfetto. Credo sia gia tarato per la versione Simbolic-SINDy, con poche generazioni e un largo function set. Pero funziona.\n",
    "\n",
    "Aggiungendo rumore:\n",
    "- SR male: becca sempre una costante, e non estrae neanche building blocks compatibili con la reale dinamica\n",
    "- D-CODE gira meglio beccando sistematicamente l'equazione anche in situazioni complicate "
   ]
  },
  {
   "cell_type": "markdown",
   "id": "70f49f66",
   "metadata": {},
   "source": []
  }
 ],
 "metadata": {
  "kernelspec": {
   "display_name": "SimbSINDy_env",
   "language": "python",
   "name": "python3"
  },
  "language_info": {
   "codemirror_mode": {
    "name": "ipython",
    "version": 3
   },
   "file_extension": ".py",
   "mimetype": "text/x-python",
   "name": "python",
   "nbconvert_exporter": "python",
   "pygments_lexer": "ipython3",
   "version": "3.11.13"
  }
 },
 "nbformat": 4,
 "nbformat_minor": 5
}
