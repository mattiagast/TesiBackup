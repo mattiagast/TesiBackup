{
 "cells": [
  {
   "cell_type": "code",
   "execution_count": 1,
   "id": "582bacd0",
   "metadata": {},
   "outputs": [
    {
     "name": "stderr",
     "output_type": "stream",
     "text": [
      "/home/mattg/miniforge3/envs/SimbSINDy_env/lib/python3.11/site-packages/pysindy/__init__.py:1: UserWarning: pkg_resources is deprecated as an API. See https://setuptools.pypa.io/en/latest/pkg_resources.html. The pkg_resources package is slated for removal as early as 2025-11-30. Refrain from using this package or pin to Setuptools<81.\n",
      "  from pkg_resources import DistributionNotFound\n"
     ]
    }
   ],
   "source": [
    "# Import:\n",
    "import numpy as np\n",
    "import matplotlib.pyplot as plt\n",
    "import dill\n",
    "import sys\n",
    "import os\n",
    "\n",
    "sys.path.append(\"/home/mattg/D_CODE\") # A questo punto è necessario per non doverlo chiamare i file che usano D_CODE.\n",
    "\n",
    "sys.path.append(os.path.abspath(os.path.join(os.getcwd(), '..'))) # include parent directory in the path\n",
    "from toolbox.experiment import Experiment\n",
    "from toolbox.SINDy import SINDy\n",
    "from toolbox.symbolic_SINDy import symbolic_SINDy\n",
    "from toolbox.cusum import CUSUM\n",
    "from toolbox.auxiliary_functions import set_param_freq\n",
    "from data import SINDy_data, equations\n",
    "\n",
    "# Seed:\n",
    "np.random.seed(999)"
   ]
  },
  {
   "cell_type": "code",
   "execution_count": 2,
   "id": "fb1d29f9",
   "metadata": {},
   "outputs": [],
   "source": [
    "# Select ODE:\n",
    "ode_name = 'TVSelkovODE'\n",
    "ode_param = '0.92,0.62,0.1'\n",
    "freq = 10\n",
    "ode_param, freq = set_param_freq(ode_param, freq)\n",
    "ode = equations.get_ode(ode_name, ode_param)\n",
    "\n",
    "# Parameters:\n",
    "\n",
    "freq_SR = 20\n",
    "n_sample = 50 \n",
    "noise_ratio = 0.01\n",
    "seed = 100 \n",
    "n_seed = 1 \n",
    "dt = 1 / freq\n",
    "dim_x = 3\n",
    "dim_k = 0\n",
    "SW_length = 15 # SINDy sliding window length\n",
    "SW_length_SR = 10 # SR sliding window length\n",
    "H = 70 # length of the experiment\n",
    "lazy = False # if True, we do not recompute the building blocks with SR\n",
    "symbolic = False # if True, SR call is allowed, otw. simple SINDy is used throughout the whole experiment\n",
    "\n",
    "# CUSUM parameters:\n",
    "N = 10 # 10\n",
    "eps = 0.01 \n",
    "threshold = 0.3 "
   ]
  },
  {
   "cell_type": "code",
   "execution_count": null,
   "id": "61dd1f27",
   "metadata": {},
   "outputs": [
    {
     "name": "stdout",
     "output_type": "stream",
     "text": [
      "(50, 700, 3) (50, 700, 3) (0,)\n",
      "['X0', 'X1', 'X2']\n"
     ]
    }
   ],
   "source": [
    "# Generate data: (6min 18.9sec)\n",
    "X_list, dX_list, param_list, feature_names = SINDy_data.SINDy_data(ode_name, ode_param, freq, n_sample, noise_ratio, dim_x, dim_k, 0, H)\n",
    "print(np.shape(X_list), np.shape(dX_list), np.shape(param_list))\n",
    "print(feature_names)\n",
    "\n",
    "# Save data:\n",
    "file_path = 'saved/data/TVSelkovODE_data.pkl'\n",
    "os.makedirs(os.path.dirname(file_path), exist_ok=True)\n",
    "with open(file_path, 'wb') as f:\n",
    "    dill.dump((X_list, dX_list, param_list, feature_names), f)"
   ]
  },
  {
   "cell_type": "code",
   "execution_count": 3,
   "id": "12dd64cf",
   "metadata": {},
   "outputs": [],
   "source": [
    "# Load data:\n",
    "file_path = 'saved/data/TVSelkovODE_data.pkl'\n",
    "with open(file_path, 'rb') as f:\n",
    "    X_list, dX_list, param_list, feature_names = dill.load(f)"
   ]
  },
  {
   "cell_type": "code",
   "execution_count": 4,
   "id": "bfc77ecf",
   "metadata": {},
   "outputs": [],
   "source": [
    "# Initialize experiment and model discovery methods:\n",
    "exp = Experiment(ode, ode_param, freq_SR, n_sample, noise_ratio, seed, n_seed, dt, dim_x, dim_k, SW_length, SW_length_SR, H, lazy, symbolic)\n",
    "\n",
    "cusum = CUSUM(N, eps, threshold)\n",
    "\n",
    "SINDy_method = SINDy(degree=3, include_bias=True, threshold=0.08)\n",
    "\n",
    "SR_method = 'SR-T' # symbolic regression method chosen \n",
    "x_id = 0  # equation to be identified by SR \n",
    "symbolic_SINDy_method = symbolic_SINDy(SR_method, x_id=0, degree=3)"
   ]
  },
  {
   "cell_type": "code",
   "execution_count": 5,
   "id": "dcd55423",
   "metadata": {},
   "outputs": [
    {
     "name": "stdout",
     "output_type": "stream",
     "text": [
      "t: 15\n",
      "SINDy model:\n",
      "(X0)' = 0.865 1 + -0.194 X0 X1 + -0.884 X0 X1^2\n",
      "(X1)' = -1.138 X1 + 0.375 X0 X1 + 0.096 X1^2 + 0.777 X0 X1^2\n",
      "(X2)' = 1.000 1\n",
      "Model complexity:  8\n",
      "Lasso penalty:  5.328921585722917\n",
      "RMSE:  0.03399991356295819\n",
      "\n",
      "t: 16\n",
      "RMSE:  0.03697250371209763\n",
      "\n",
      "t: 17\n",
      "RMSE:  0.028803789615854114\n",
      "\n",
      "t: 18\n",
      "RMSE:  0.019179527665426268\n",
      "\n",
      "t: 19\n",
      "RMSE:  0.029097241180094557\n",
      "\n",
      "t: 20\n",
      "RMSE:  0.031461242553914255\n",
      "\n",
      "t: 21\n",
      "RMSE:  0.02583990103018711\n",
      "\n",
      "t: 22\n",
      "RMSE:  0.02589889205668932\n",
      "\n",
      "t: 23\n",
      "RMSE:  0.025618415460221505\n",
      "\n",
      "t: 24\n",
      "RMSE:  0.01759041306424446\n",
      "\n",
      "t: 25\n",
      "RMSE:  0.016669780199604155\n",
      "\n",
      "t: 26\n",
      "RMSE:  0.022161596252341216\n",
      "\n",
      "t: 27\n",
      "RMSE:  0.022308454644597176\n",
      "\n",
      "t: 28\n",
      "RMSE:  0.0207965487383711\n",
      "\n",
      "t: 29\n",
      "RMSE:  0.01941169500943496\n",
      "\n",
      "t: 30\n",
      "RMSE:  0.014844251030088993\n",
      "\n",
      "t: 31\n",
      "RMSE:  0.018024349457394038\n",
      "\n",
      "t: 32\n",
      "RMSE:  0.028636316173632114\n",
      "\n",
      "t: 33\n",
      "RMSE:  0.03367541720806621\n",
      "\n",
      "t: 34\n",
      "RMSE:  0.03352411481476787\n",
      "\n",
      "t: 35\n",
      "RMSE:  0.0319368318903203\n",
      "\n",
      "t: 36\n",
      "RMSE:  0.031492461109602805\n",
      "\n",
      "t: 37\n",
      "RMSE:  0.038304384836130474\n",
      "\n",
      "t: 38\n",
      "RMSE:  0.052831039122491916\n",
      "\n",
      "t: 39\n",
      "RMSE:  0.06491182225625976\n",
      "\n",
      "t: 40\n",
      "RMSE:  0.0696817639296935\n",
      "\n",
      "t: 41\n",
      "RMSE:  0.07089260927526876\n",
      "\n",
      "t: 42\n",
      "RMSE:  0.07504692378767501\n",
      "\n",
      "t: 43\n",
      "RMSE:  0.0852093666693943\n",
      "\n",
      "t: 44\n",
      "RMSE:  0.10008781781330671\n",
      "\n",
      "t: 45\n",
      "RMSE:  0.1163364850984014\n",
      "\n",
      "t: 46\n",
      "RMSE:  0.12964466794186952\n",
      "\n",
      "t: 47\n",
      "Change-point detected!\n",
      "SINDy model:\n",
      "(X0)' = 0.000\n",
      "(X1)' = 0.000\n",
      "(X2)' = 0.000\n",
      "Model complexity:  0\n",
      "Lasso penalty:  0.0\n",
      "RMSE:  1.9564711241568375\n",
      "\n",
      "t: 48\n"
     ]
    },
    {
     "name": "stderr",
     "output_type": "stream",
     "text": [
      "/home/mattg/miniforge3/envs/SimbSINDy_env/lib/python3.11/site-packages/pysindy/optimizers/stlsq.py:201: UserWarning: Sparsity parameter is too big (0.08) and eliminated all coefficients\n",
      "  warnings.warn(\n",
      "/home/mattg/miniforge3/envs/SimbSINDy_env/lib/python3.11/site-packages/pysindy/optimizers/stlsq.py:201: UserWarning: Sparsity parameter is too big (0.08) and eliminated all coefficients\n",
      "  warnings.warn(\n",
      "/home/mattg/miniforge3/envs/SimbSINDy_env/lib/python3.11/site-packages/pysindy/optimizers/stlsq.py:191: UserWarning: Sparsity parameter is too big (0.08) and eliminated all coefficients\n",
      "  warnings.warn(\n",
      "/home/mattg/miniforge3/envs/SimbSINDy_env/lib/python3.11/site-packages/pysindy/optimizers/stlsq.py:201: UserWarning: Sparsity parameter is too big (0.08) and eliminated all coefficients\n",
      "  warnings.warn(\n",
      "/home/mattg/miniforge3/envs/SimbSINDy_env/lib/python3.11/site-packages/pysindy/optimizers/stlsq.py:201: UserWarning: Sparsity parameter is too big (0.08) and eliminated all coefficients\n",
      "  warnings.warn(\n"
     ]
    },
    {
     "name": "stdout",
     "output_type": "stream",
     "text": [
      "Too complex\n",
      "RMSE:  1.9619652845658664\n",
      "\n",
      "t: 49\n"
     ]
    },
    {
     "name": "stderr",
     "output_type": "stream",
     "text": [
      "/home/mattg/miniforge3/envs/SimbSINDy_env/lib/python3.11/site-packages/pysindy/optimizers/stlsq.py:201: UserWarning: Sparsity parameter is too big (0.08) and eliminated all coefficients\n",
      "  warnings.warn(\n",
      "/home/mattg/miniforge3/envs/SimbSINDy_env/lib/python3.11/site-packages/pysindy/optimizers/stlsq.py:201: UserWarning: Sparsity parameter is too big (0.08) and eliminated all coefficients\n",
      "  warnings.warn(\n",
      "/home/mattg/miniforge3/envs/SimbSINDy_env/lib/python3.11/site-packages/pysindy/optimizers/stlsq.py:201: UserWarning: Sparsity parameter is too big (0.08) and eliminated all coefficients\n",
      "  warnings.warn(\n"
     ]
    },
    {
     "name": "stdout",
     "output_type": "stream",
     "text": [
      "SINDy model:\n",
      "(X0)' = 0.755 1 + -0.788 X0 X1 + -0.318 X0 X1^2 + 0.253 X1^3\n",
      "(X1)' = 0.000\n",
      "(X2)' = 0.000\n",
      "Model complexity:  4\n",
      "Lasso penalty:  2.1146741087771055\n",
      "RMSE:  1.9847735702371776\n",
      "\n",
      "t: 50\n",
      "Too complex\n"
     ]
    },
    {
     "name": "stderr",
     "output_type": "stream",
     "text": [
      "/home/mattg/miniforge3/envs/SimbSINDy_env/lib/python3.11/site-packages/pysindy/optimizers/stlsq.py:201: UserWarning: Sparsity parameter is too big (0.08) and eliminated all coefficients\n",
      "  warnings.warn(\n",
      "/home/mattg/miniforge3/envs/SimbSINDy_env/lib/python3.11/site-packages/pysindy/optimizers/stlsq.py:201: UserWarning: Sparsity parameter is too big (0.08) and eliminated all coefficients\n",
      "  warnings.warn(\n"
     ]
    },
    {
     "name": "stdout",
     "output_type": "stream",
     "text": [
      "RMSE:  1.9903608594566216\n",
      "\n",
      "t: 51\n",
      "SINDy model:\n",
      "(X0)' = 0.000\n",
      "(X1)' = 0.000\n",
      "(X2)' = 0.000\n",
      "Model complexity:  0\n",
      "Lasso penalty:  0.0\n"
     ]
    },
    {
     "name": "stderr",
     "output_type": "stream",
     "text": [
      "/home/mattg/miniforge3/envs/SimbSINDy_env/lib/python3.11/site-packages/pysindy/optimizers/stlsq.py:201: UserWarning: Sparsity parameter is too big (0.08) and eliminated all coefficients\n",
      "  warnings.warn(\n",
      "/home/mattg/miniforge3/envs/SimbSINDy_env/lib/python3.11/site-packages/pysindy/optimizers/stlsq.py:191: UserWarning: Sparsity parameter is too big (0.08) and eliminated all coefficients\n",
      "  warnings.warn(\n"
     ]
    },
    {
     "name": "stdout",
     "output_type": "stream",
     "text": [
      "RMSE:  1.9911461923803935\n",
      "\n",
      "t: 52\n",
      "Too complex\n"
     ]
    },
    {
     "name": "stderr",
     "output_type": "stream",
     "text": [
      "/home/mattg/miniforge3/envs/SimbSINDy_env/lib/python3.11/site-packages/pysindy/optimizers/stlsq.py:201: UserWarning: Sparsity parameter is too big (0.08) and eliminated all coefficients\n",
      "  warnings.warn(\n",
      "/home/mattg/miniforge3/envs/SimbSINDy_env/lib/python3.11/site-packages/pysindy/optimizers/stlsq.py:201: UserWarning: Sparsity parameter is too big (0.08) and eliminated all coefficients\n",
      "  warnings.warn(\n"
     ]
    },
    {
     "name": "stdout",
     "output_type": "stream",
     "text": [
      "RMSE:  1.9764863861871003\n",
      "\n",
      "t: 53\n",
      "SINDy model:\n",
      "(X0)' = 0.426 1 + -1.068 X0 X1^2 + 0.533 X1^3\n",
      "(X1)' = 0.000\n",
      "(X2)' = 0.000\n",
      "Model complexity:  3\n",
      "Lasso penalty:  2.026677900037057\n"
     ]
    },
    {
     "name": "stderr",
     "output_type": "stream",
     "text": [
      "/home/mattg/miniforge3/envs/SimbSINDy_env/lib/python3.11/site-packages/pysindy/optimizers/stlsq.py:201: UserWarning: Sparsity parameter is too big (0.08) and eliminated all coefficients\n",
      "  warnings.warn(\n",
      "/home/mattg/miniforge3/envs/SimbSINDy_env/lib/python3.11/site-packages/pysindy/optimizers/stlsq.py:201: UserWarning: Sparsity parameter is too big (0.08) and eliminated all coefficients\n",
      "  warnings.warn(\n",
      "/home/mattg/miniforge3/envs/SimbSINDy_env/lib/python3.11/site-packages/pysindy/optimizers/stlsq.py:201: UserWarning: Sparsity parameter is too big (0.08) and eliminated all coefficients\n",
      "  warnings.warn(\n",
      "/home/mattg/miniforge3/envs/SimbSINDy_env/lib/python3.11/site-packages/pysindy/optimizers/stlsq.py:201: UserWarning: Sparsity parameter is too big (0.08) and eliminated all coefficients\n",
      "  warnings.warn(\n"
     ]
    },
    {
     "name": "stdout",
     "output_type": "stream",
     "text": [
      "RMSE:  1.9502021803589398\n",
      "\n",
      "t: 54\n",
      "SINDy model:\n",
      "(X0)' = 0.295 1 + 0.506 X1 + -0.236 X0 X1 + -0.802 X0 X1^2\n",
      "(X1)' = 0.000\n",
      "(X2)' = 0.000\n",
      "Model complexity:  4\n",
      "Lasso penalty:  1.838555104273771\n"
     ]
    },
    {
     "name": "stderr",
     "output_type": "stream",
     "text": [
      "/home/mattg/miniforge3/envs/SimbSINDy_env/lib/python3.11/site-packages/pysindy/optimizers/stlsq.py:201: UserWarning: Sparsity parameter is too big (0.08) and eliminated all coefficients\n",
      "  warnings.warn(\n",
      "/home/mattg/miniforge3/envs/SimbSINDy_env/lib/python3.11/site-packages/pysindy/optimizers/stlsq.py:201: UserWarning: Sparsity parameter is too big (0.08) and eliminated all coefficients\n",
      "  warnings.warn(\n"
     ]
    },
    {
     "name": "stdout",
     "output_type": "stream",
     "text": [
      "RMSE:  1.9567211856712272\n",
      "\n",
      "t: 55\n",
      "SINDy model:\n",
      "(X0)' = 0.695 X1^2 + -0.968 X1^3\n",
      "(X1)' = 0.000\n",
      "(X2)' = 0.000\n",
      "Model complexity:  2\n",
      "Lasso penalty:  1.663018707992482\n"
     ]
    },
    {
     "name": "stderr",
     "output_type": "stream",
     "text": [
      "/home/mattg/miniforge3/envs/SimbSINDy_env/lib/python3.11/site-packages/pysindy/optimizers/stlsq.py:201: UserWarning: Sparsity parameter is too big (0.08) and eliminated all coefficients\n",
      "  warnings.warn(\n",
      "/home/mattg/miniforge3/envs/SimbSINDy_env/lib/python3.11/site-packages/pysindy/optimizers/stlsq.py:201: UserWarning: Sparsity parameter is too big (0.08) and eliminated all coefficients\n",
      "  warnings.warn(\n",
      "/home/mattg/miniforge3/envs/SimbSINDy_env/lib/python3.11/site-packages/pysindy/optimizers/stlsq.py:201: UserWarning: Sparsity parameter is too big (0.08) and eliminated all coefficients\n",
      "  warnings.warn(\n"
     ]
    },
    {
     "name": "stdout",
     "output_type": "stream",
     "text": [
      "RMSE:  1.988073416890287\n",
      "\n",
      "t: 56\n",
      "SINDy model:\n",
      "(X0)' = 0.000\n",
      "(X1)' = 0.000\n",
      "(X2)' = 0.000\n",
      "Model complexity:  0\n",
      "Lasso penalty:  0.0\n"
     ]
    },
    {
     "name": "stderr",
     "output_type": "stream",
     "text": [
      "/home/mattg/miniforge3/envs/SimbSINDy_env/lib/python3.11/site-packages/pysindy/optimizers/stlsq.py:191: UserWarning: Sparsity parameter is too big (0.08) and eliminated all coefficients\n",
      "  warnings.warn(\n"
     ]
    },
    {
     "name": "stdout",
     "output_type": "stream",
     "text": [
      "RMSE:  1.9670269505536027\n",
      "\n",
      "t: 57\n",
      "SINDy model:\n",
      "(X0)' = 0.000\n",
      "(X1)' = 0.000\n",
      "(X2)' = 0.000\n",
      "Model complexity:  0\n",
      "Lasso penalty:  0.0\n"
     ]
    },
    {
     "name": "stderr",
     "output_type": "stream",
     "text": [
      "/home/mattg/miniforge3/envs/SimbSINDy_env/lib/python3.11/site-packages/pysindy/optimizers/stlsq.py:201: UserWarning: Sparsity parameter is too big (0.08) and eliminated all coefficients\n",
      "  warnings.warn(\n",
      "/home/mattg/miniforge3/envs/SimbSINDy_env/lib/python3.11/site-packages/pysindy/optimizers/stlsq.py:191: UserWarning: Sparsity parameter is too big (0.08) and eliminated all coefficients\n",
      "  warnings.warn(\n"
     ]
    },
    {
     "name": "stdout",
     "output_type": "stream",
     "text": [
      "RMSE:  1.9754251373319582\n",
      "\n",
      "t: 58\n",
      "SINDy model:\n",
      "(X0)' = 0.112 X0^2 X1 + -0.458 X1^3\n",
      "(X1)' = 0.000\n",
      "(X2)' = 0.000\n",
      "Model complexity:  2\n",
      "Lasso penalty:  0.5693381078253908\n"
     ]
    },
    {
     "name": "stderr",
     "output_type": "stream",
     "text": [
      "/home/mattg/miniforge3/envs/SimbSINDy_env/lib/python3.11/site-packages/pysindy/optimizers/stlsq.py:201: UserWarning: Sparsity parameter is too big (0.08) and eliminated all coefficients\n",
      "  warnings.warn(\n",
      "/home/mattg/miniforge3/envs/SimbSINDy_env/lib/python3.11/site-packages/pysindy/optimizers/stlsq.py:201: UserWarning: Sparsity parameter is too big (0.08) and eliminated all coefficients\n",
      "  warnings.warn(\n"
     ]
    },
    {
     "name": "stdout",
     "output_type": "stream",
     "text": [
      "RMSE:  2.142807773328714\n",
      "\n",
      "t: 59\n",
      "SINDy model:\n",
      "(X0)' = 0.000\n",
      "(X1)' = 0.000\n",
      "(X2)' = 0.000\n",
      "Model complexity:  0\n",
      "Lasso penalty:  0.0\n"
     ]
    },
    {
     "name": "stderr",
     "output_type": "stream",
     "text": [
      "/home/mattg/miniforge3/envs/SimbSINDy_env/lib/python3.11/site-packages/pysindy/optimizers/stlsq.py:201: UserWarning: Sparsity parameter is too big (0.08) and eliminated all coefficients\n",
      "  warnings.warn(\n",
      "/home/mattg/miniforge3/envs/SimbSINDy_env/lib/python3.11/site-packages/pysindy/optimizers/stlsq.py:191: UserWarning: Sparsity parameter is too big (0.08) and eliminated all coefficients\n",
      "  warnings.warn(\n"
     ]
    },
    {
     "name": "stdout",
     "output_type": "stream",
     "text": [
      "RMSE:  1.9941256949714998\n",
      "\n",
      "t: 60\n",
      "SINDy model:\n",
      "(X0)' = 0.000\n",
      "(X1)' = 0.000\n",
      "(X2)' = 0.000\n",
      "Model complexity:  0\n",
      "Lasso penalty:  0.0\n"
     ]
    },
    {
     "name": "stderr",
     "output_type": "stream",
     "text": [
      "/home/mattg/miniforge3/envs/SimbSINDy_env/lib/python3.11/site-packages/pysindy/optimizers/stlsq.py:201: UserWarning: Sparsity parameter is too big (0.08) and eliminated all coefficients\n",
      "  warnings.warn(\n",
      "/home/mattg/miniforge3/envs/SimbSINDy_env/lib/python3.11/site-packages/pysindy/optimizers/stlsq.py:191: UserWarning: Sparsity parameter is too big (0.08) and eliminated all coefficients\n",
      "  warnings.warn(\n"
     ]
    },
    {
     "name": "stdout",
     "output_type": "stream",
     "text": [
      "RMSE:  1.9866359741320203\n",
      "\n",
      "t: 61\n",
      "SINDy model:\n",
      "(X0)' = 0.000\n",
      "(X1)' = 0.000\n",
      "(X2)' = 0.000\n",
      "Model complexity:  0\n",
      "Lasso penalty:  0.0\n"
     ]
    },
    {
     "name": "stderr",
     "output_type": "stream",
     "text": [
      "/home/mattg/miniforge3/envs/SimbSINDy_env/lib/python3.11/site-packages/pysindy/optimizers/stlsq.py:201: UserWarning: Sparsity parameter is too big (0.08) and eliminated all coefficients\n",
      "  warnings.warn(\n",
      "/home/mattg/miniforge3/envs/SimbSINDy_env/lib/python3.11/site-packages/pysindy/optimizers/stlsq.py:191: UserWarning: Sparsity parameter is too big (0.08) and eliminated all coefficients\n",
      "  warnings.warn(\n"
     ]
    },
    {
     "name": "stdout",
     "output_type": "stream",
     "text": [
      "RMSE:  1.9800216341421304\n",
      "\n",
      "t: 62\n",
      "SINDy model:\n",
      "(X0)' = 0.000\n",
      "(X1)' = 0.000\n",
      "(X2)' = 0.000\n",
      "Model complexity:  0\n",
      "Lasso penalty:  0.0\n"
     ]
    },
    {
     "name": "stderr",
     "output_type": "stream",
     "text": [
      "/home/mattg/miniforge3/envs/SimbSINDy_env/lib/python3.11/site-packages/pysindy/optimizers/stlsq.py:191: UserWarning: Sparsity parameter is too big (0.08) and eliminated all coefficients\n",
      "  warnings.warn(\n"
     ]
    },
    {
     "name": "stdout",
     "output_type": "stream",
     "text": [
      "RMSE:  1.9858692642064528\n",
      "\n",
      "t: 63\n",
      "SINDy model:\n",
      "(X0)' = 0.259 X0^2 X1 + -0.509 X0 X1^2\n",
      "(X1)' = 0.000\n",
      "(X2)' = 0.000\n",
      "Model complexity:  2\n",
      "Lasso penalty:  0.768514372045784\n"
     ]
    },
    {
     "name": "stderr",
     "output_type": "stream",
     "text": [
      "/home/mattg/miniforge3/envs/SimbSINDy_env/lib/python3.11/site-packages/pysindy/optimizers/stlsq.py:201: UserWarning: Sparsity parameter is too big (0.08) and eliminated all coefficients\n",
      "  warnings.warn(\n",
      "/home/mattg/miniforge3/envs/SimbSINDy_env/lib/python3.11/site-packages/pysindy/optimizers/stlsq.py:201: UserWarning: Sparsity parameter is too big (0.08) and eliminated all coefficients\n",
      "  warnings.warn(\n"
     ]
    },
    {
     "name": "stdout",
     "output_type": "stream",
     "text": [
      " lsoda--  warning..internal t (=r1) and h (=r2) are\u0000\u0000\n",
      "       such that in the machine, t + h = t on the next step  \n",
      "       (h = step size). solver will continue anyway\u0000\u0000\n",
      "      in above,  r1 =  0.6265474055298D+02   r2 =  0.3375368309190D-14\n",
      " lsoda--  warning..internal t (=r1) and h (=r2) are\u0000\u0000\n",
      "       such that in the machine, t + h = t on the next step  \n",
      "       (h = step size). solver will continue anyway\u0000\u0000\n",
      "      in above,  r1 =  0.6265474055298D+02   r2 =  0.3375368309190D-14\n",
      " lsoda--  warning..internal t (=r1) and h (=r2) are\u0000\u0000\n",
      "       such that in the machine, t + h = t on the next step  \n",
      "       (h = step size). solver will continue anyway\u0000\u0000\n",
      "      in above,  r1 =  0.6265474055298D+02   r2 =  0.3375368309190D-14\n",
      " lsoda--  warning..internal t (=r1) and h (=r2) are\u0000\u0000\n",
      "       such that in the machine, t + h = t on the next step  \n",
      "       (h = step size). solver will continue anyway\u0000\u0000\n",
      "      in above,  r1 =  0.6265474055298D+02   r2 =  0.3375368309190D-14\n",
      " lsoda--  warning..internal t (=r1) and h (=r2) are\u0000\u0000\n",
      "       such that in the machine, t + h = t on the next step  \n",
      "       (h = step size). solver will continue anyway\u0000\u0000\n",
      "      in above,  r1 =  0.6265474055298D+02   r2 =  0.3375368309190D-14\n",
      " lsoda--  warning..internal t (=r1) and h (=r2) are\u0000\u0000\n",
      "       such that in the machine, t + h = t on the next step  \n",
      "       (h = step size). solver will continue anyway\u0000\u0000\n",
      "      in above,  r1 =  0.6265474055298D+02   r2 =  0.3375368309190D-14\n",
      " lsoda--  warning..internal t (=r1) and h (=r2) are\u0000\u0000\n",
      "       such that in the machine, t + h = t on the next step  \n",
      "       (h = step size). solver will continue anyway\u0000\u0000\n",
      "      in above,  r1 =  0.6265474055298D+02   r2 =  0.3375368309190D-14\n",
      " lsoda--  warning..internal t (=r1) and h (=r2) are\u0000\u0000\n",
      "       such that in the machine, t + h = t on the next step  \n",
      "       (h = step size). solver will continue anyway\u0000\u0000\n",
      "      in above,  r1 =  0.6265474055298D+02   r2 =  0.3375368309190D-14\n",
      " lsoda--  warning..internal t (=r1) and h (=r2) are\u0000\u0000\n",
      "       such that in the machine, t + h = t on the next step  \n",
      "       (h = step size). solver will continue anyway\u0000\u0000\n",
      "      in above,  r1 =  0.6265474055298D+02   r2 =  0.3375368309190D-14\n",
      " lsoda--  warning..internal t (=r1) and h (=r2) are\u0000\u0000\n",
      "       such that in the machine, t + h = t on the next step  \n",
      "       (h = step size). solver will continue anyway\u0000\u0000\n",
      "      in above,  r1 =  0.6265474055298D+02   r2 =  0.3375368309190D-14\n",
      " lsoda--  above warning has been issued i1 times.  \u0000\u0000\n",
      "       it will not be issued again for this problem\u0000\u0000\n",
      "      in above message,  i1 =        10\n"
     ]
    },
    {
     "name": "stderr",
     "output_type": "stream",
     "text": [
      "capi_return is NULL\n",
      "Call-back cb_f_in_lsoda__user__routines failed.\n"
     ]
    },
    {
     "ename": "ValueError",
     "evalue": "Input X contains infinity or a value too large for dtype('float64').",
     "output_type": "error",
     "traceback": [
      "\u001b[31m---------------------------------------------------------------------------\u001b[39m",
      "\u001b[31mValueError\u001b[39m                                Traceback (most recent call last)",
      "\u001b[36mCell\u001b[39m\u001b[36m \u001b[39m\u001b[32mIn[5]\u001b[39m\u001b[32m, line 11\u001b[39m\n\u001b[32m      8\u001b[39m X_list_t = [x[(exp.T0*freq):(exp.T*freq)] \u001b[38;5;28;01mfor\u001b[39;00m x \u001b[38;5;129;01min\u001b[39;00m X_list]\n\u001b[32m      9\u001b[39m dX_list_t = [dx[(exp.T0*freq):(exp.T*freq)] \u001b[38;5;28;01mfor\u001b[39;00m dx \u001b[38;5;129;01min\u001b[39;00m dX_list]  \n\u001b[32m---> \u001b[39m\u001b[32m11\u001b[39m \u001b[43mexp\u001b[49m\u001b[43m.\u001b[49m\u001b[43mstep_forward\u001b[49m\u001b[43m(\u001b[49m\u001b[43mSINDy_method\u001b[49m\u001b[43m,\u001b[49m\u001b[43m \u001b[49m\u001b[43msymbolic_SINDy_method\u001b[49m\u001b[43m,\u001b[49m\u001b[43m \u001b[49m\u001b[43mcusum\u001b[49m\u001b[43m,\u001b[49m\u001b[43m \u001b[49m\u001b[43mX_list_t\u001b[49m\u001b[43m,\u001b[49m\u001b[43m \u001b[49m\u001b[43mdX_list_t\u001b[49m\u001b[43m,\u001b[49m\u001b[43m \u001b[49m\u001b[43mparam_list\u001b[49m\u001b[43m,\u001b[49m\u001b[43m \u001b[49m\u001b[43mfeature_names\u001b[49m\u001b[43m)\u001b[49m\n\u001b[32m     13\u001b[39m \u001b[38;5;66;03m# building block search time: 3m 15s\u001b[39;00m\n\u001b[32m     14\u001b[39m \u001b[38;5;66;03m# total time: 6m 20s\u001b[39;00m\n",
      "\u001b[36mFile \u001b[39m\u001b[32m~/Tesi/SymbolicSINDy/toolbox/experiment.py:97\u001b[39m, in \u001b[36mExperiment.step_forward\u001b[39m\u001b[34m(self, SINDy_method, symbolic_SINDy_method, cusum, X_list_t, dX_list_t, param_list, feature_names)\u001b[39m\n\u001b[32m     93\u001b[39m         cusum.reset()\n\u001b[32m     96\u001b[39m \u001b[38;5;66;03m# evaluating the model:\u001b[39;00m\n\u001b[32m---> \u001b[39m\u001b[32m97\u001b[39m \u001b[38;5;28mself\u001b[39m.rmse, _ = \u001b[43mevaluate_RMSE_d\u001b[49m\u001b[43m(\u001b[49m\u001b[38;5;28;43mself\u001b[39;49m\u001b[43m.\u001b[49m\u001b[43mmodel_star\u001b[49m\u001b[43m,\u001b[49m\u001b[43m \u001b[49m\u001b[38;5;28;43mself\u001b[39;49m\u001b[43m.\u001b[49m\u001b[43mode\u001b[49m\u001b[43m,\u001b[49m\u001b[43m \u001b[49m\u001b[32;43m10\u001b[39;49m\u001b[43m,\u001b[49m\u001b[43m \u001b[49m\u001b[32;43m10\u001b[39;49m\u001b[43m,\u001b[49m\u001b[43m \u001b[49m\u001b[38;5;28;43mself\u001b[39;49m\u001b[43m.\u001b[49m\u001b[43mode\u001b[49m\u001b[43m.\u001b[49m\u001b[43minit_high\u001b[49m\u001b[43m,\u001b[49m\u001b[43m \u001b[49m\u001b[38;5;28;43mself\u001b[39;49m\u001b[43m.\u001b[49m\u001b[43mode\u001b[49m\u001b[43m.\u001b[49m\u001b[43minit_low\u001b[49m\u001b[43m,\u001b[49m\u001b[43m \u001b[49m\u001b[38;5;28;43mself\u001b[39;49m\u001b[43m.\u001b[49m\u001b[43mT\u001b[49m\u001b[43m-\u001b[49m\u001b[32;43m10\u001b[39;49m\u001b[43m,\u001b[49m\u001b[43m \u001b[49m\u001b[38;5;28;43mself\u001b[39;49m\u001b[43m.\u001b[49m\u001b[43mT\u001b[49m\u001b[43m,\u001b[49m\u001b[43m \u001b[49m\u001b[38;5;28;43mself\u001b[39;49m\u001b[43m.\u001b[49m\u001b[43mdim_k\u001b[49m\u001b[43m)\u001b[49m\n\u001b[32m     98\u001b[39m \u001b[38;5;28mprint\u001b[39m(\u001b[33m'\u001b[39m\u001b[33mRMSE: \u001b[39m\u001b[33m'\u001b[39m, \u001b[38;5;28mself\u001b[39m.rmse) \u001b[38;5;66;03m# RMSE on time window [T, T+10]\u001b[39;00m\n\u001b[32m     99\u001b[39m \u001b[38;5;28mprint\u001b[39m(\u001b[33m'\u001b[39m\u001b[33m'\u001b[39m)\n",
      "\u001b[36mFile \u001b[39m\u001b[32m~/Tesi/SymbolicSINDy/data/SINDy_data.py:395\u001b[39m, in \u001b[36mevaluate_RMSE_d\u001b[39m\u001b[34m(model, ode, freq, n_sample, init_high, init_low, T0, T, dim_k)\u001b[39m\n\u001b[32m    393\u001b[39m         pred_0 = model.simulate(xt_true[\u001b[32m0\u001b[39m, i, :][:-dim_k], t= t[:T_plot], u = test_params)\n\u001b[32m    394\u001b[39m     \u001b[38;5;28;01melse\u001b[39;00m: \u001b[38;5;66;03m# dim_k == 0\u001b[39;00m\n\u001b[32m--> \u001b[39m\u001b[32m395\u001b[39m         pred_0 = \u001b[43mmodel\u001b[49m\u001b[43m.\u001b[49m\u001b[43msimulate\u001b[49m\u001b[43m(\u001b[49m\u001b[43mxt_true\u001b[49m\u001b[43m[\u001b[49m\u001b[32;43m0\u001b[39;49m\u001b[43m,\u001b[49m\u001b[43m \u001b[49m\u001b[43mi\u001b[49m\u001b[43m,\u001b[49m\u001b[43m \u001b[49m\u001b[43m:\u001b[49m\u001b[43m]\u001b[49m\u001b[43m,\u001b[49m\u001b[43m \u001b[49m\u001b[43mt\u001b[49m\u001b[43m=\u001b[49m\u001b[43m \u001b[49m\u001b[43mt\u001b[49m\u001b[43m[\u001b[49m\u001b[43m:\u001b[49m\u001b[43mT_plot\u001b[49m\u001b[43m]\u001b[49m\u001b[43m)\u001b[49m\n\u001b[32m    396\u001b[39m     pred_0_list.append(pred_0)\n\u001b[32m    397\u001b[39m \u001b[38;5;66;03m#print(np.shape(pred_0_list))\u001b[39;00m\n",
      "\u001b[36mFile \u001b[39m\u001b[32m~/miniforge3/envs/SimbSINDy_env/lib/python3.11/site-packages/pysindy/pysindy.py:896\u001b[39m, in \u001b[36mSINDy.simulate\u001b[39m\u001b[34m(self, x0, t, u, integrator, stop_condition, interpolator, integrator_kws, interpolator_kws)\u001b[39m\n\u001b[32m    892\u001b[39m \u001b[38;5;66;03m# Need to hard-code below, because odeint and solve_ivp\u001b[39;00m\n\u001b[32m    893\u001b[39m \u001b[38;5;66;03m# have different syntax and integration options.\u001b[39;00m\n\u001b[32m    894\u001b[39m \u001b[38;5;28;01mif\u001b[39;00m integrator == \u001b[33m\"\u001b[39m\u001b[33msolve_ivp\u001b[39m\u001b[33m\"\u001b[39m:\n\u001b[32m    895\u001b[39m     \u001b[38;5;28;01mreturn\u001b[39;00m (\n\u001b[32m--> \u001b[39m\u001b[32m896\u001b[39m         (\u001b[43msolve_ivp\u001b[49m\u001b[43m(\u001b[49m\u001b[43mrhs\u001b[49m\u001b[43m,\u001b[49m\u001b[43m \u001b[49m\u001b[43m(\u001b[49m\u001b[43mt\u001b[49m\u001b[43m[\u001b[49m\u001b[32;43m0\u001b[39;49m\u001b[43m]\u001b[49m\u001b[43m,\u001b[49m\u001b[43m \u001b[49m\u001b[43mt\u001b[49m\u001b[43m[\u001b[49m\u001b[43m-\u001b[49m\u001b[32;43m1\u001b[39;49m\u001b[43m]\u001b[49m\u001b[43m)\u001b[49m\u001b[43m,\u001b[49m\u001b[43m \u001b[49m\u001b[43mx0\u001b[49m\u001b[43m,\u001b[49m\u001b[43m \u001b[49m\u001b[43mt_eval\u001b[49m\u001b[43m=\u001b[49m\u001b[43mt\u001b[49m\u001b[43m,\u001b[49m\u001b[43m \u001b[49m\u001b[43m*\u001b[49m\u001b[43m*\u001b[49m\u001b[43mintegrator_kws\u001b[49m\u001b[43m)\u001b[49m).y\n\u001b[32m    897\u001b[39m     ).T\n\u001b[32m    898\u001b[39m \u001b[38;5;28;01melif\u001b[39;00m integrator == \u001b[33m\"\u001b[39m\u001b[33modeint\u001b[39m\u001b[33m\"\u001b[39m:\n\u001b[32m    899\u001b[39m     \u001b[38;5;28;01mif\u001b[39;00m integrator_kws.get(\u001b[33m\"\u001b[39m\u001b[33mmethod\u001b[39m\u001b[33m\"\u001b[39m) == \u001b[33m\"\u001b[39m\u001b[33mLSODA\u001b[39m\u001b[33m\"\u001b[39m:\n",
      "\u001b[36mFile \u001b[39m\u001b[32m~/miniforge3/envs/SimbSINDy_env/lib/python3.11/site-packages/scipy/integrate/_ivp/ivp.py:655\u001b[39m, in \u001b[36msolve_ivp\u001b[39m\u001b[34m(fun, t_span, y0, method, t_eval, dense_output, events, vectorized, args, **options)\u001b[39m\n\u001b[32m    653\u001b[39m status = \u001b[38;5;28;01mNone\u001b[39;00m\n\u001b[32m    654\u001b[39m \u001b[38;5;28;01mwhile\u001b[39;00m status \u001b[38;5;129;01mis\u001b[39;00m \u001b[38;5;28;01mNone\u001b[39;00m:\n\u001b[32m--> \u001b[39m\u001b[32m655\u001b[39m     message = \u001b[43msolver\u001b[49m\u001b[43m.\u001b[49m\u001b[43mstep\u001b[49m\u001b[43m(\u001b[49m\u001b[43m)\u001b[49m\n\u001b[32m    657\u001b[39m     \u001b[38;5;28;01mif\u001b[39;00m solver.status == \u001b[33m'\u001b[39m\u001b[33mfinished\u001b[39m\u001b[33m'\u001b[39m:\n\u001b[32m    658\u001b[39m         status = \u001b[32m0\u001b[39m\n",
      "\u001b[36mFile \u001b[39m\u001b[32m~/miniforge3/envs/SimbSINDy_env/lib/python3.11/site-packages/scipy/integrate/_ivp/base.py:197\u001b[39m, in \u001b[36mOdeSolver.step\u001b[39m\u001b[34m(self)\u001b[39m\n\u001b[32m    195\u001b[39m \u001b[38;5;28;01melse\u001b[39;00m:\n\u001b[32m    196\u001b[39m     t = \u001b[38;5;28mself\u001b[39m.t\n\u001b[32m--> \u001b[39m\u001b[32m197\u001b[39m     success, message = \u001b[38;5;28;43mself\u001b[39;49m\u001b[43m.\u001b[49m\u001b[43m_step_impl\u001b[49m\u001b[43m(\u001b[49m\u001b[43m)\u001b[49m\n\u001b[32m    199\u001b[39m     \u001b[38;5;28;01mif\u001b[39;00m \u001b[38;5;129;01mnot\u001b[39;00m success:\n\u001b[32m    200\u001b[39m         \u001b[38;5;28mself\u001b[39m.status = \u001b[33m'\u001b[39m\u001b[33mfailed\u001b[39m\u001b[33m'\u001b[39m\n",
      "\u001b[36mFile \u001b[39m\u001b[32m~/miniforge3/envs/SimbSINDy_env/lib/python3.11/site-packages/scipy/integrate/_ivp/lsoda.py:161\u001b[39m, in \u001b[36mLSODA._step_impl\u001b[39m\u001b[34m(self)\u001b[39m\n\u001b[32m    159\u001b[39m itask = integrator.call_args[\u001b[32m2\u001b[39m]\n\u001b[32m    160\u001b[39m integrator.call_args[\u001b[32m2\u001b[39m] = \u001b[32m5\u001b[39m\n\u001b[32m--> \u001b[39m\u001b[32m161\u001b[39m solver._y, solver.t = \u001b[43mintegrator\u001b[49m\u001b[43m.\u001b[49m\u001b[43mrun\u001b[49m\u001b[43m(\u001b[49m\n\u001b[32m    162\u001b[39m \u001b[43m    \u001b[49m\u001b[43msolver\u001b[49m\u001b[43m.\u001b[49m\u001b[43mf\u001b[49m\u001b[43m,\u001b[49m\u001b[43m \u001b[49m\u001b[43msolver\u001b[49m\u001b[43m.\u001b[49m\u001b[43mjac\u001b[49m\u001b[43m \u001b[49m\u001b[38;5;129;43;01mor\u001b[39;49;00m\u001b[43m \u001b[49m\u001b[43m(\u001b[49m\u001b[38;5;28;43;01mlambda\u001b[39;49;00m\u001b[43m:\u001b[49m\u001b[43m \u001b[49m\u001b[38;5;28;43;01mNone\u001b[39;49;00m\u001b[43m)\u001b[49m\u001b[43m,\u001b[49m\u001b[43m \u001b[49m\u001b[43msolver\u001b[49m\u001b[43m.\u001b[49m\u001b[43m_y\u001b[49m\u001b[43m,\u001b[49m\u001b[43m \u001b[49m\u001b[43msolver\u001b[49m\u001b[43m.\u001b[49m\u001b[43mt\u001b[49m\u001b[43m,\u001b[49m\n\u001b[32m    163\u001b[39m \u001b[43m    \u001b[49m\u001b[38;5;28;43mself\u001b[39;49m\u001b[43m.\u001b[49m\u001b[43mt_bound\u001b[49m\u001b[43m,\u001b[49m\u001b[43m \u001b[49m\u001b[43msolver\u001b[49m\u001b[43m.\u001b[49m\u001b[43mf_params\u001b[49m\u001b[43m,\u001b[49m\u001b[43m \u001b[49m\u001b[43msolver\u001b[49m\u001b[43m.\u001b[49m\u001b[43mjac_params\u001b[49m\u001b[43m)\u001b[49m\n\u001b[32m    164\u001b[39m integrator.call_args[\u001b[32m2\u001b[39m] = itask\n\u001b[32m    166\u001b[39m \u001b[38;5;28;01mif\u001b[39;00m solver.successful():\n",
      "\u001b[36mFile \u001b[39m\u001b[32m~/miniforge3/envs/SimbSINDy_env/lib/python3.11/site-packages/scipy/integrate/_ode.py:1365\u001b[39m, in \u001b[36mlsoda.run\u001b[39m\u001b[34m(self, f, jac, y0, t0, t1, f_params, jac_params)\u001b[39m\n\u001b[32m   1361\u001b[39m args = [f, y0, t0, t1] + \u001b[38;5;28mself\u001b[39m.call_args[:-\u001b[32m1\u001b[39m] + \\\n\u001b[32m   1362\u001b[39m        [jac, \u001b[38;5;28mself\u001b[39m.call_args[-\u001b[32m1\u001b[39m], f_params, \u001b[32m0\u001b[39m, jac_params]\n\u001b[32m   1364\u001b[39m \u001b[38;5;28;01mwith\u001b[39;00m LSODA_LOCK:\n\u001b[32m-> \u001b[39m\u001b[32m1365\u001b[39m     y1, t, istate = \u001b[38;5;28;43mself\u001b[39;49m\u001b[43m.\u001b[49m\u001b[43mrunner\u001b[49m\u001b[43m(\u001b[49m\u001b[43m*\u001b[49m\u001b[43margs\u001b[49m\u001b[43m)\u001b[49m\n\u001b[32m   1367\u001b[39m \u001b[38;5;28mself\u001b[39m.istate = istate\n\u001b[32m   1368\u001b[39m \u001b[38;5;28;01mif\u001b[39;00m istate < \u001b[32m0\u001b[39m:\n",
      "\u001b[36mFile \u001b[39m\u001b[32m~/miniforge3/envs/SimbSINDy_env/lib/python3.11/site-packages/scipy/integrate/_ivp/base.py:154\u001b[39m, in \u001b[36mOdeSolver.__init__.<locals>.fun\u001b[39m\u001b[34m(t, y)\u001b[39m\n\u001b[32m    152\u001b[39m \u001b[38;5;28;01mdef\u001b[39;00m\u001b[38;5;250m \u001b[39m\u001b[34mfun\u001b[39m(t, y):\n\u001b[32m    153\u001b[39m     \u001b[38;5;28mself\u001b[39m.nfev += \u001b[32m1\u001b[39m\n\u001b[32m--> \u001b[39m\u001b[32m154\u001b[39m     \u001b[38;5;28;01mreturn\u001b[39;00m \u001b[38;5;28;43mself\u001b[39;49m\u001b[43m.\u001b[49m\u001b[43mfun_single\u001b[49m\u001b[43m(\u001b[49m\u001b[43mt\u001b[49m\u001b[43m,\u001b[49m\u001b[43m \u001b[49m\u001b[43my\u001b[49m\u001b[43m)\u001b[49m\n",
      "\u001b[36mFile \u001b[39m\u001b[32m~/miniforge3/envs/SimbSINDy_env/lib/python3.11/site-packages/scipy/integrate/_ivp/base.py:23\u001b[39m, in \u001b[36mcheck_arguments.<locals>.fun_wrapped\u001b[39m\u001b[34m(t, y)\u001b[39m\n\u001b[32m     22\u001b[39m \u001b[38;5;28;01mdef\u001b[39;00m\u001b[38;5;250m \u001b[39m\u001b[34mfun_wrapped\u001b[39m(t, y):\n\u001b[32m---> \u001b[39m\u001b[32m23\u001b[39m     \u001b[38;5;28;01mreturn\u001b[39;00m np.asarray(\u001b[43mfun\u001b[49m\u001b[43m(\u001b[49m\u001b[43mt\u001b[49m\u001b[43m,\u001b[49m\u001b[43m \u001b[49m\u001b[43my\u001b[49m\u001b[43m)\u001b[49m, dtype=dtype)\n",
      "\u001b[36mFile \u001b[39m\u001b[32m~/miniforge3/envs/SimbSINDy_env/lib/python3.11/site-packages/pysindy/pysindy.py:860\u001b[39m, in \u001b[36mSINDy.simulate.<locals>.rhs\u001b[39m\u001b[34m(t, x)\u001b[39m\n\u001b[32m    859\u001b[39m \u001b[38;5;28;01mdef\u001b[39;00m\u001b[38;5;250m \u001b[39m\u001b[34mrhs\u001b[39m(t, x):\n\u001b[32m--> \u001b[39m\u001b[32m860\u001b[39m     \u001b[38;5;28;01mreturn\u001b[39;00m \u001b[38;5;28;43mself\u001b[39;49m\u001b[43m.\u001b[49m\u001b[43mpredict\u001b[49m\u001b[43m(\u001b[49m\u001b[43mx\u001b[49m\u001b[43m[\u001b[49m\u001b[43mnp\u001b[49m\u001b[43m.\u001b[49m\u001b[43mnewaxis\u001b[49m\u001b[43m,\u001b[49m\u001b[43m \u001b[49m\u001b[43m:\u001b[49m\u001b[43m]\u001b[49m\u001b[43m)\u001b[49m[\u001b[32m0\u001b[39m]\n",
      "\u001b[36mFile \u001b[39m\u001b[32m~/miniforge3/envs/SimbSINDy_env/lib/python3.11/site-packages/pysindy/pysindy.py:477\u001b[39m, in \u001b[36mSINDy.predict\u001b[39m\u001b[34m(self, x, u, multiple_trajectories)\u001b[39m\n\u001b[32m    475\u001b[39m     u = validate_control_variables(x, u)\n\u001b[32m    476\u001b[39m     x = [np.concatenate((xi, ui), axis=xi.ax_coord) \u001b[38;5;28;01mfor\u001b[39;00m xi, ui \u001b[38;5;129;01min\u001b[39;00m \u001b[38;5;28mzip\u001b[39m(x, u)]\n\u001b[32m--> \u001b[39m\u001b[32m477\u001b[39m result = \u001b[43m[\u001b[49m\u001b[38;5;28;43mself\u001b[39;49m\u001b[43m.\u001b[49m\u001b[43mmodel\u001b[49m\u001b[43m.\u001b[49m\u001b[43mpredict\u001b[49m\u001b[43m(\u001b[49m\u001b[43m[\u001b[49m\u001b[43mxi\u001b[49m\u001b[43m]\u001b[49m\u001b[43m)\u001b[49m\u001b[43m \u001b[49m\u001b[38;5;28;43;01mfor\u001b[39;49;00m\u001b[43m \u001b[49m\u001b[43mxi\u001b[49m\u001b[43m \u001b[49m\u001b[38;5;129;43;01min\u001b[39;49;00m\u001b[43m \u001b[49m\u001b[43mx\u001b[49m\u001b[43m]\u001b[49m\n\u001b[32m    478\u001b[39m result = [\n\u001b[32m    479\u001b[39m     \u001b[38;5;28mself\u001b[39m.feature_library.reshape_samples_to_spatial_grid(pred)\n\u001b[32m    480\u001b[39m     \u001b[38;5;28;01mfor\u001b[39;00m pred \u001b[38;5;129;01min\u001b[39;00m result\n\u001b[32m    481\u001b[39m ]\n\u001b[32m    483\u001b[39m \u001b[38;5;66;03m# Kept for backwards compatibility.\u001b[39;00m\n",
      "\u001b[36mFile \u001b[39m\u001b[32m~/miniforge3/envs/SimbSINDy_env/lib/python3.11/site-packages/pysindy/pysindy.py:477\u001b[39m, in \u001b[36m<listcomp>\u001b[39m\u001b[34m(.0)\u001b[39m\n\u001b[32m    475\u001b[39m     u = validate_control_variables(x, u)\n\u001b[32m    476\u001b[39m     x = [np.concatenate((xi, ui), axis=xi.ax_coord) \u001b[38;5;28;01mfor\u001b[39;00m xi, ui \u001b[38;5;129;01min\u001b[39;00m \u001b[38;5;28mzip\u001b[39m(x, u)]\n\u001b[32m--> \u001b[39m\u001b[32m477\u001b[39m result = [\u001b[38;5;28;43mself\u001b[39;49m\u001b[43m.\u001b[49m\u001b[43mmodel\u001b[49m\u001b[43m.\u001b[49m\u001b[43mpredict\u001b[49m\u001b[43m(\u001b[49m\u001b[43m[\u001b[49m\u001b[43mxi\u001b[49m\u001b[43m]\u001b[49m\u001b[43m)\u001b[49m \u001b[38;5;28;01mfor\u001b[39;00m xi \u001b[38;5;129;01min\u001b[39;00m x]\n\u001b[32m    478\u001b[39m result = [\n\u001b[32m    479\u001b[39m     \u001b[38;5;28mself\u001b[39m.feature_library.reshape_samples_to_spatial_grid(pred)\n\u001b[32m    480\u001b[39m     \u001b[38;5;28;01mfor\u001b[39;00m pred \u001b[38;5;129;01min\u001b[39;00m result\n\u001b[32m    481\u001b[39m ]\n\u001b[32m    483\u001b[39m \u001b[38;5;66;03m# Kept for backwards compatibility.\u001b[39;00m\n",
      "\u001b[36mFile \u001b[39m\u001b[32m~/miniforge3/envs/SimbSINDy_env/lib/python3.11/site-packages/sklearn/pipeline.py:789\u001b[39m, in \u001b[36mPipeline.predict\u001b[39m\u001b[34m(self, X, **params)\u001b[39m\n\u001b[32m    787\u001b[39m     \u001b[38;5;28;01mfor\u001b[39;00m _, name, transform \u001b[38;5;129;01min\u001b[39;00m \u001b[38;5;28mself\u001b[39m._iter(with_final=\u001b[38;5;28;01mFalse\u001b[39;00m):\n\u001b[32m    788\u001b[39m         Xt = transform.transform(Xt)\n\u001b[32m--> \u001b[39m\u001b[32m789\u001b[39m     \u001b[38;5;28;01mreturn\u001b[39;00m \u001b[38;5;28;43mself\u001b[39;49m\u001b[43m.\u001b[49m\u001b[43msteps\u001b[49m\u001b[43m[\u001b[49m\u001b[43m-\u001b[49m\u001b[32;43m1\u001b[39;49m\u001b[43m]\u001b[49m\u001b[43m[\u001b[49m\u001b[32;43m1\u001b[39;49m\u001b[43m]\u001b[49m\u001b[43m.\u001b[49m\u001b[43mpredict\u001b[49m\u001b[43m(\u001b[49m\u001b[43mXt\u001b[49m\u001b[43m,\u001b[49m\u001b[43m \u001b[49m\u001b[43m*\u001b[49m\u001b[43m*\u001b[49m\u001b[43mparams\u001b[49m\u001b[43m)\u001b[49m\n\u001b[32m    791\u001b[39m \u001b[38;5;66;03m# metadata routing enabled\u001b[39;00m\n\u001b[32m    792\u001b[39m routed_params = process_routing(\u001b[38;5;28mself\u001b[39m, \u001b[33m\"\u001b[39m\u001b[33mpredict\u001b[39m\u001b[33m\"\u001b[39m, **params)\n",
      "\u001b[36mFile \u001b[39m\u001b[32m~/miniforge3/envs/SimbSINDy_env/lib/python3.11/site-packages/pysindy/optimizers/sindy_optimizer.py:89\u001b[39m, in \u001b[36mSINDyOptimizer.predict\u001b[39m\u001b[34m(self, x)\u001b[39m\n\u001b[32m     88\u001b[39m \u001b[38;5;28;01mdef\u001b[39;00m\u001b[38;5;250m \u001b[39m\u001b[34mpredict\u001b[39m(\u001b[38;5;28mself\u001b[39m, x):\n\u001b[32m---> \u001b[39m\u001b[32m89\u001b[39m     prediction = \u001b[38;5;28;43mself\u001b[39;49m\u001b[43m.\u001b[49m\u001b[43moptimizer\u001b[49m\u001b[43m.\u001b[49m\u001b[43mpredict\u001b[49m\u001b[43m(\u001b[49m\u001b[43mx\u001b[49m\u001b[43m)\u001b[49m\n\u001b[32m     90\u001b[39m     \u001b[38;5;28;01mif\u001b[39;00m prediction.ndim == \u001b[32m1\u001b[39m:\n\u001b[32m     91\u001b[39m         \u001b[38;5;28;01mreturn\u001b[39;00m prediction[:, np.newaxis]\n",
      "\u001b[36mFile \u001b[39m\u001b[32m~/miniforge3/envs/SimbSINDy_env/lib/python3.11/site-packages/sklearn/linear_model/_base.py:298\u001b[39m, in \u001b[36mLinearModel.predict\u001b[39m\u001b[34m(self, X)\u001b[39m\n\u001b[32m    284\u001b[39m \u001b[38;5;28;01mdef\u001b[39;00m\u001b[38;5;250m \u001b[39m\u001b[34mpredict\u001b[39m(\u001b[38;5;28mself\u001b[39m, X):\n\u001b[32m    285\u001b[39m \u001b[38;5;250m    \u001b[39m\u001b[33;03m\"\"\"\u001b[39;00m\n\u001b[32m    286\u001b[39m \u001b[33;03m    Predict using the linear model.\u001b[39;00m\n\u001b[32m    287\u001b[39m \n\u001b[32m   (...)\u001b[39m\u001b[32m    296\u001b[39m \u001b[33;03m        Returns predicted values.\u001b[39;00m\n\u001b[32m    297\u001b[39m \u001b[33;03m    \"\"\"\u001b[39;00m\n\u001b[32m--> \u001b[39m\u001b[32m298\u001b[39m     \u001b[38;5;28;01mreturn\u001b[39;00m \u001b[38;5;28;43mself\u001b[39;49m\u001b[43m.\u001b[49m\u001b[43m_decision_function\u001b[49m\u001b[43m(\u001b[49m\u001b[43mX\u001b[49m\u001b[43m)\u001b[49m\n",
      "\u001b[36mFile \u001b[39m\u001b[32m~/miniforge3/envs/SimbSINDy_env/lib/python3.11/site-packages/sklearn/linear_model/_base.py:277\u001b[39m, in \u001b[36mLinearModel._decision_function\u001b[39m\u001b[34m(self, X)\u001b[39m\n\u001b[32m    274\u001b[39m \u001b[38;5;28;01mdef\u001b[39;00m\u001b[38;5;250m \u001b[39m\u001b[34m_decision_function\u001b[39m(\u001b[38;5;28mself\u001b[39m, X):\n\u001b[32m    275\u001b[39m     check_is_fitted(\u001b[38;5;28mself\u001b[39m)\n\u001b[32m--> \u001b[39m\u001b[32m277\u001b[39m     X = \u001b[43mvalidate_data\u001b[49m\u001b[43m(\u001b[49m\u001b[38;5;28;43mself\u001b[39;49m\u001b[43m,\u001b[49m\u001b[43m \u001b[49m\u001b[43mX\u001b[49m\u001b[43m,\u001b[49m\u001b[43m \u001b[49m\u001b[43maccept_sparse\u001b[49m\u001b[43m=\u001b[49m\u001b[43m[\u001b[49m\u001b[33;43m\"\u001b[39;49m\u001b[33;43mcsr\u001b[39;49m\u001b[33;43m\"\u001b[39;49m\u001b[43m,\u001b[49m\u001b[43m \u001b[49m\u001b[33;43m\"\u001b[39;49m\u001b[33;43mcsc\u001b[39;49m\u001b[33;43m\"\u001b[39;49m\u001b[43m,\u001b[49m\u001b[43m \u001b[49m\u001b[33;43m\"\u001b[39;49m\u001b[33;43mcoo\u001b[39;49m\u001b[33;43m\"\u001b[39;49m\u001b[43m]\u001b[49m\u001b[43m,\u001b[49m\u001b[43m \u001b[49m\u001b[43mreset\u001b[49m\u001b[43m=\u001b[49m\u001b[38;5;28;43;01mFalse\u001b[39;49;00m\u001b[43m)\u001b[49m\n\u001b[32m    278\u001b[39m     coef_ = \u001b[38;5;28mself\u001b[39m.coef_\n\u001b[32m    279\u001b[39m     \u001b[38;5;28;01mif\u001b[39;00m coef_.ndim == \u001b[32m1\u001b[39m:\n",
      "\u001b[36mFile \u001b[39m\u001b[32m~/miniforge3/envs/SimbSINDy_env/lib/python3.11/site-packages/sklearn/utils/validation.py:2954\u001b[39m, in \u001b[36mvalidate_data\u001b[39m\u001b[34m(_estimator, X, y, reset, validate_separately, skip_check_array, **check_params)\u001b[39m\n\u001b[32m   2952\u001b[39m         out = X, y\n\u001b[32m   2953\u001b[39m \u001b[38;5;28;01melif\u001b[39;00m \u001b[38;5;129;01mnot\u001b[39;00m no_val_X \u001b[38;5;129;01mand\u001b[39;00m no_val_y:\n\u001b[32m-> \u001b[39m\u001b[32m2954\u001b[39m     out = \u001b[43mcheck_array\u001b[49m\u001b[43m(\u001b[49m\u001b[43mX\u001b[49m\u001b[43m,\u001b[49m\u001b[43m \u001b[49m\u001b[43minput_name\u001b[49m\u001b[43m=\u001b[49m\u001b[33;43m\"\u001b[39;49m\u001b[33;43mX\u001b[39;49m\u001b[33;43m\"\u001b[39;49m\u001b[43m,\u001b[49m\u001b[43m \u001b[49m\u001b[43m*\u001b[49m\u001b[43m*\u001b[49m\u001b[43mcheck_params\u001b[49m\u001b[43m)\u001b[49m\n\u001b[32m   2955\u001b[39m \u001b[38;5;28;01melif\u001b[39;00m no_val_X \u001b[38;5;129;01mand\u001b[39;00m \u001b[38;5;129;01mnot\u001b[39;00m no_val_y:\n\u001b[32m   2956\u001b[39m     out = _check_y(y, **check_params)\n",
      "\u001b[36mFile \u001b[39m\u001b[32m~/miniforge3/envs/SimbSINDy_env/lib/python3.11/site-packages/sklearn/utils/validation.py:1105\u001b[39m, in \u001b[36mcheck_array\u001b[39m\u001b[34m(array, accept_sparse, accept_large_sparse, dtype, order, copy, force_writeable, force_all_finite, ensure_all_finite, ensure_non_negative, ensure_2d, allow_nd, ensure_min_samples, ensure_min_features, estimator, input_name)\u001b[39m\n\u001b[32m   1099\u001b[39m     \u001b[38;5;28;01mraise\u001b[39;00m \u001b[38;5;167;01mValueError\u001b[39;00m(\n\u001b[32m   1100\u001b[39m         \u001b[33mf\u001b[39m\u001b[33m\"\u001b[39m\u001b[33mFound array with dim \u001b[39m\u001b[38;5;132;01m{\u001b[39;00marray.ndim\u001b[38;5;132;01m}\u001b[39;00m\u001b[33m,\u001b[39m\u001b[33m\"\u001b[39m\n\u001b[32m   1101\u001b[39m         \u001b[33mf\u001b[39m\u001b[33m\"\u001b[39m\u001b[33m while dim <= 2 is required\u001b[39m\u001b[38;5;132;01m{\u001b[39;00mcontext\u001b[38;5;132;01m}\u001b[39;00m\u001b[33m.\u001b[39m\u001b[33m\"\u001b[39m\n\u001b[32m   1102\u001b[39m     )\n\u001b[32m   1104\u001b[39m \u001b[38;5;28;01mif\u001b[39;00m ensure_all_finite:\n\u001b[32m-> \u001b[39m\u001b[32m1105\u001b[39m     \u001b[43m_assert_all_finite\u001b[49m\u001b[43m(\u001b[49m\n\u001b[32m   1106\u001b[39m \u001b[43m        \u001b[49m\u001b[43marray\u001b[49m\u001b[43m,\u001b[49m\n\u001b[32m   1107\u001b[39m \u001b[43m        \u001b[49m\u001b[43minput_name\u001b[49m\u001b[43m=\u001b[49m\u001b[43minput_name\u001b[49m\u001b[43m,\u001b[49m\n\u001b[32m   1108\u001b[39m \u001b[43m        \u001b[49m\u001b[43mestimator_name\u001b[49m\u001b[43m=\u001b[49m\u001b[43mestimator_name\u001b[49m\u001b[43m,\u001b[49m\n\u001b[32m   1109\u001b[39m \u001b[43m        \u001b[49m\u001b[43mallow_nan\u001b[49m\u001b[43m=\u001b[49m\u001b[43mensure_all_finite\u001b[49m\u001b[43m \u001b[49m\u001b[43m==\u001b[49m\u001b[43m \u001b[49m\u001b[33;43m\"\u001b[39;49m\u001b[33;43mallow-nan\u001b[39;49m\u001b[33;43m\"\u001b[39;49m\u001b[43m,\u001b[49m\n\u001b[32m   1110\u001b[39m \u001b[43m    \u001b[49m\u001b[43m)\u001b[49m\n\u001b[32m   1112\u001b[39m \u001b[38;5;28;01mif\u001b[39;00m copy:\n\u001b[32m   1113\u001b[39m     \u001b[38;5;28;01mif\u001b[39;00m _is_numpy_namespace(xp):\n\u001b[32m   1114\u001b[39m         \u001b[38;5;66;03m# only make a copy if `array` and `array_orig` may share memory`\u001b[39;00m\n",
      "\u001b[36mFile \u001b[39m\u001b[32m~/miniforge3/envs/SimbSINDy_env/lib/python3.11/site-packages/sklearn/utils/validation.py:120\u001b[39m, in \u001b[36m_assert_all_finite\u001b[39m\u001b[34m(X, allow_nan, msg_dtype, estimator_name, input_name)\u001b[39m\n\u001b[32m    117\u001b[39m \u001b[38;5;28;01mif\u001b[39;00m first_pass_isfinite:\n\u001b[32m    118\u001b[39m     \u001b[38;5;28;01mreturn\u001b[39;00m\n\u001b[32m--> \u001b[39m\u001b[32m120\u001b[39m \u001b[43m_assert_all_finite_element_wise\u001b[49m\u001b[43m(\u001b[49m\n\u001b[32m    121\u001b[39m \u001b[43m    \u001b[49m\u001b[43mX\u001b[49m\u001b[43m,\u001b[49m\n\u001b[32m    122\u001b[39m \u001b[43m    \u001b[49m\u001b[43mxp\u001b[49m\u001b[43m=\u001b[49m\u001b[43mxp\u001b[49m\u001b[43m,\u001b[49m\n\u001b[32m    123\u001b[39m \u001b[43m    \u001b[49m\u001b[43mallow_nan\u001b[49m\u001b[43m=\u001b[49m\u001b[43mallow_nan\u001b[49m\u001b[43m,\u001b[49m\n\u001b[32m    124\u001b[39m \u001b[43m    \u001b[49m\u001b[43mmsg_dtype\u001b[49m\u001b[43m=\u001b[49m\u001b[43mmsg_dtype\u001b[49m\u001b[43m,\u001b[49m\n\u001b[32m    125\u001b[39m \u001b[43m    \u001b[49m\u001b[43mestimator_name\u001b[49m\u001b[43m=\u001b[49m\u001b[43mestimator_name\u001b[49m\u001b[43m,\u001b[49m\n\u001b[32m    126\u001b[39m \u001b[43m    \u001b[49m\u001b[43minput_name\u001b[49m\u001b[43m=\u001b[49m\u001b[43minput_name\u001b[49m\u001b[43m,\u001b[49m\n\u001b[32m    127\u001b[39m \u001b[43m\u001b[49m\u001b[43m)\u001b[49m\n",
      "\u001b[36mFile \u001b[39m\u001b[32m~/miniforge3/envs/SimbSINDy_env/lib/python3.11/site-packages/sklearn/utils/validation.py:169\u001b[39m, in \u001b[36m_assert_all_finite_element_wise\u001b[39m\u001b[34m(X, xp, allow_nan, msg_dtype, estimator_name, input_name)\u001b[39m\n\u001b[32m    152\u001b[39m \u001b[38;5;28;01mif\u001b[39;00m estimator_name \u001b[38;5;129;01mand\u001b[39;00m input_name == \u001b[33m\"\u001b[39m\u001b[33mX\u001b[39m\u001b[33m\"\u001b[39m \u001b[38;5;129;01mand\u001b[39;00m has_nan_error:\n\u001b[32m    153\u001b[39m     \u001b[38;5;66;03m# Improve the error message on how to handle missing values in\u001b[39;00m\n\u001b[32m    154\u001b[39m     \u001b[38;5;66;03m# scikit-learn.\u001b[39;00m\n\u001b[32m    155\u001b[39m     msg_err += (\n\u001b[32m    156\u001b[39m         \u001b[33mf\u001b[39m\u001b[33m\"\u001b[39m\u001b[38;5;130;01m\\n\u001b[39;00m\u001b[38;5;132;01m{\u001b[39;00mestimator_name\u001b[38;5;132;01m}\u001b[39;00m\u001b[33m does not accept missing values\u001b[39m\u001b[33m\"\u001b[39m\n\u001b[32m    157\u001b[39m         \u001b[33m\"\u001b[39m\u001b[33m encoded as NaN natively. For supervised learning, you might want\u001b[39m\u001b[33m\"\u001b[39m\n\u001b[32m   (...)\u001b[39m\u001b[32m    167\u001b[39m         \u001b[33m\"\u001b[39m\u001b[33m#estimators-that-handle-nan-values\u001b[39m\u001b[33m\"\u001b[39m\n\u001b[32m    168\u001b[39m     )\n\u001b[32m--> \u001b[39m\u001b[32m169\u001b[39m \u001b[38;5;28;01mraise\u001b[39;00m \u001b[38;5;167;01mValueError\u001b[39;00m(msg_err)\n",
      "\u001b[31mValueError\u001b[39m: Input X contains infinity or a value too large for dtype('float64')."
     ]
    }
   ],
   "source": [
    "# Run the experiment:\n",
    "\n",
    "while exp.T <= exp.H:\n",
    "\n",
    "    print(f't: {exp.T}')\n",
    "\n",
    "    # update time-window:\n",
    "    X_list_t = [x[(exp.T0*freq):(exp.T*freq)] for x in X_list]\n",
    "    dX_list_t = [dx[(exp.T0*freq):(exp.T*freq)] for dx in dX_list]  \n",
    "\n",
    "    exp.step_forward(SINDy_method, symbolic_SINDy_method, cusum, X_list_t, dX_list_t, param_list, feature_names)\n",
    "\n",
    "    # building block search time: 3m 15s\n",
    "    # total time: 6m 20s"
   ]
  },
  {
   "cell_type": "code",
   "execution_count": null,
   "id": "c158aed0",
   "metadata": {},
   "outputs": [],
   "source": [
    "exp.plot()\n",
    "exp.plot(x_id=1)\n",
    "exp.plot_RMSE()"
   ]
  },
  {
   "cell_type": "code",
   "execution_count": 8,
   "id": "59cd3b89",
   "metadata": {},
   "outputs": [
    {
     "name": "stdout",
     "output_type": "stream",
     "text": [
      "plotting\n",
      "(450,)\n",
      "(450,)\n",
      "(600,)\n",
      "(600,)\n",
      "plotting\n",
      "(450,)\n",
      "(450,)\n",
      "(600,)\n",
      "(600,)\n"
     ]
    },
    {
     "data": {
      "image/png": "[encoded data removed]",
      "text/plain": [
       "<Figure size 1000x400 with 1 Axes>"
      ]
     },
     "metadata": {},
     "output_type": "display_data"
    },
    {
     "data": {
      "image/png": "[encoded data removed]",
      "text/plain": [
       "<Figure size 1000x400 with 1 Axes>"
      ]
     },
     "metadata": {},
     "output_type": "display_data"
    }
   ],
   "source": [
    "exp.plot()\n",
    "exp.plot(x_id=1)"
   ]
  },
  {
   "cell_type": "code",
   "execution_count": null,
   "id": "62f2d60d",
   "metadata": {},
   "outputs": [],
   "source": []
  }
 ],
 "metadata": {
  "kernelspec": {
   "display_name": "SimbSINDy_env",
   "language": "python",
   "name": "python3"
  },
  "language_info": {
   "codemirror_mode": {
    "name": "ipython",
    "version": 3
   },
   "file_extension": ".py",
   "mimetype": "text/x-python",
   "name": "python",
   "nbconvert_exporter": "python",
   "pygments_lexer": "ipython3",
   "version": "3.11.13"
  }
 },
 "nbformat": 4,
 "nbformat_minor": 5
}
